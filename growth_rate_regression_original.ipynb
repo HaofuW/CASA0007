{
 "cells": [
  {
   "cell_type": "markdown",
   "id": "9b3683bd",
   "metadata": {},
   "source": [
    "# Please note that Isles of Scilly is deleted as outliers."
   ]
  },
  {
   "cell_type": "code",
   "execution_count": 114,
   "id": "e98caa79",
   "metadata": {},
   "outputs": [],
   "source": [
    "data_filename = \"CW1.csv\"\n",
    "output_filename = \"correlation matrix.png\""
   ]
  },
  {
   "cell_type": "code",
   "execution_count": 115,
   "id": "412a92a4",
   "metadata": {},
   "outputs": [],
   "source": [
    "import pandas as pd\n",
    "from sklearn.linear_model import LinearRegression\n",
    "import statsmodels.api as sm\n",
    "\n",
    "import numpy as np\n",
    "\n",
    "import sklearn\n",
    "from sklearn.linear_model import LogisticRegression\n",
    "from sklearn.metrics import confusion_matrix\n",
    "\n",
    "import matplotlib.pyplot as plt\n",
    "import seaborn as sn\n",
    "\n",
    "pd.set_option('display.max_rows', 300) # specifies number of rows to show\n",
    "pd.options.display.float_format = '{:40,.4f}'.format # specifies default number format to 4 decimal places\n",
    "plt.style.use('ggplot') # specifies that graphs should use ggplot styling\n",
    "%matplotlib inline"
   ]
  },
  {
   "cell_type": "markdown",
   "id": "121156d2",
   "metadata": {},
   "source": [
    "# Preperation"
   ]
  },
  {
   "cell_type": "code",
   "execution_count": 120,
   "id": "708ba3ce",
   "metadata": {},
   "outputs": [],
   "source": [
    "conditionx = pd.read_csv('CW1_correlation.csv')"
   ]
  },
  {
   "cell_type": "code",
   "execution_count": 121,
   "id": "1ae38cd6",
   "metadata": {},
   "outputs": [
    {
     "name": "stdout",
     "output_type": "stream",
     "text": [
      "<class 'pandas.core.frame.DataFrame'>\n",
      "RangeIndex: 152 entries, 0 to 151\n",
      "Data columns (total 10 columns):\n",
      " #   Column            Non-Null Count  Dtype  \n",
      "---  ------            --------------  -----  \n",
      " 0   2008_2013_ratio   152 non-null    float64\n",
      " 1   2013_2018_ratio   152 non-null    float64\n",
      " 2   2008_2018_ratio   152 non-null    float64\n",
      " 3   total_budget      152 non-null    int64  \n",
      " 4   clean_air         152 non-null    int64  \n",
      " 5   clean_environ     152 non-null    int64  \n",
      " 6   health_training   152 non-null    int64  \n",
      " 7   school_awareness  152 non-null    int64  \n",
      " 8   media_awareness   152 non-null    int64  \n",
      " 9   sub_counselling   152 non-null    int64  \n",
      "dtypes: float64(3), int64(7)\n",
      "memory usage: 12.0 KB\n"
     ]
    }
   ],
   "source": [
    "conditionx.info()"
   ]
  },
  {
   "cell_type": "code",
   "execution_count": 122,
   "id": "33ed0551",
   "metadata": {},
   "outputs": [
    {
     "data": {
      "text/html": [
       "<div>\n",
       "<style scoped>\n",
       "    .dataframe tbody tr th:only-of-type {\n",
       "        vertical-align: middle;\n",
       "    }\n",
       "\n",
       "    .dataframe tbody tr th {\n",
       "        vertical-align: top;\n",
       "    }\n",
       "\n",
       "    .dataframe thead th {\n",
       "        text-align: right;\n",
       "    }\n",
       "</style>\n",
       "<table border=\"1\" class=\"dataframe\">\n",
       "  <thead>\n",
       "    <tr style=\"text-align: right;\">\n",
       "      <th></th>\n",
       "      <th>2008_2013_ratio</th>\n",
       "      <th>2013_2018_ratio</th>\n",
       "      <th>2008_2018_ratio</th>\n",
       "      <th>total_budget</th>\n",
       "      <th>clean_air</th>\n",
       "      <th>clean_environ</th>\n",
       "      <th>health_training</th>\n",
       "      <th>school_awareness</th>\n",
       "      <th>media_awareness</th>\n",
       "      <th>sub_counselling</th>\n",
       "    </tr>\n",
       "  </thead>\n",
       "  <tbody>\n",
       "    <tr>\n",
       "      <th>0</th>\n",
       "      <td>0.0068</td>\n",
       "      <td>0.2140</td>\n",
       "      <td>0.2223</td>\n",
       "      <td>139000</td>\n",
       "      <td>21000</td>\n",
       "      <td>22000</td>\n",
       "      <td>18000</td>\n",
       "      <td>41000</td>\n",
       "      <td>18000</td>\n",
       "      <td>19000</td>\n",
       "    </tr>\n",
       "    <tr>\n",
       "      <th>1</th>\n",
       "      <td>0.0904</td>\n",
       "      <td>0.2579</td>\n",
       "      <td>0.3716</td>\n",
       "      <td>220000</td>\n",
       "      <td>50000</td>\n",
       "      <td>17000</td>\n",
       "      <td>23000</td>\n",
       "      <td>74000</td>\n",
       "      <td>30000</td>\n",
       "      <td>26000</td>\n",
       "    </tr>\n",
       "    <tr>\n",
       "      <th>2</th>\n",
       "      <td>0.1642</td>\n",
       "      <td>0.1057</td>\n",
       "      <td>0.2872</td>\n",
       "      <td>160000</td>\n",
       "      <td>41000</td>\n",
       "      <td>45000</td>\n",
       "      <td>5000</td>\n",
       "      <td>26000</td>\n",
       "      <td>29000</td>\n",
       "      <td>14000</td>\n",
       "    </tr>\n",
       "    <tr>\n",
       "      <th>3</th>\n",
       "      <td>-0.0466</td>\n",
       "      <td>0.0720</td>\n",
       "      <td>0.0221</td>\n",
       "      <td>161000</td>\n",
       "      <td>33000</td>\n",
       "      <td>42000</td>\n",
       "      <td>19000</td>\n",
       "      <td>50000</td>\n",
       "      <td>10000</td>\n",
       "      <td>7000</td>\n",
       "    </tr>\n",
       "    <tr>\n",
       "      <th>4</th>\n",
       "      <td>0.0092</td>\n",
       "      <td>0.0851</td>\n",
       "      <td>0.0951</td>\n",
       "      <td>130000</td>\n",
       "      <td>37000</td>\n",
       "      <td>52000</td>\n",
       "      <td>17000</td>\n",
       "      <td>8000</td>\n",
       "      <td>3000</td>\n",
       "      <td>13000</td>\n",
       "    </tr>\n",
       "  </tbody>\n",
       "</table>\n",
       "</div>"
      ],
      "text/plain": [
       "                           2008_2013_ratio  \\\n",
       "0                                   0.0068   \n",
       "1                                   0.0904   \n",
       "2                                   0.1642   \n",
       "3                                  -0.0466   \n",
       "4                                   0.0092   \n",
       "\n",
       "                           2013_2018_ratio  \\\n",
       "0                                   0.2140   \n",
       "1                                   0.2579   \n",
       "2                                   0.1057   \n",
       "3                                   0.0720   \n",
       "4                                   0.0851   \n",
       "\n",
       "                           2008_2018_ratio  total_budget  clean_air  \\\n",
       "0                                   0.2223        139000      21000   \n",
       "1                                   0.3716        220000      50000   \n",
       "2                                   0.2872        160000      41000   \n",
       "3                                   0.0221        161000      33000   \n",
       "4                                   0.0951        130000      37000   \n",
       "\n",
       "   clean_environ  health_training  school_awareness  media_awareness  \\\n",
       "0          22000            18000             41000            18000   \n",
       "1          17000            23000             74000            30000   \n",
       "2          45000             5000             26000            29000   \n",
       "3          42000            19000             50000            10000   \n",
       "4          52000            17000              8000             3000   \n",
       "\n",
       "   sub_counselling  \n",
       "0            19000  \n",
       "1            26000  \n",
       "2            14000  \n",
       "3             7000  \n",
       "4            13000  "
      ]
     },
     "execution_count": 122,
     "metadata": {},
     "output_type": "execute_result"
    }
   ],
   "source": [
    "conditionx.head()"
   ]
  },
  {
   "cell_type": "markdown",
   "id": "a7129383",
   "metadata": {},
   "source": [
    "# Check the correlation between variables"
   ]
  },
  {
   "cell_type": "code",
   "execution_count": 123,
   "id": "413b7903",
   "metadata": {
    "scrolled": true
   },
   "outputs": [
    {
     "data": {
      "text/plain": [
       "Text(0.5, 1.0, 'Correlation Matrix')"
      ]
     },
     "execution_count": 123,
     "metadata": {},
     "output_type": "execute_result"
    },
    {
     "data": {
      "image/png": "[encoded data removed]",
      "text/plain": [
       "<Figure size 1368x1080 with 2 Axes>"
      ]
     },
     "metadata": {
      "needs_background": "light"
     },
     "output_type": "display_data"
    }
   ],
   "source": [
    "df = conditionx\n",
    "plt.rcParams[\"axes.grid\"] = False\n",
    "f = plt.figure(figsize=(19, 15))\n",
    "plt.matshow(df.corr(), fignum=f.number)\n",
    "plt.xticks(range(df.shape[1]), df.columns, fontsize=14, rotation=45)\n",
    "plt.yticks(range(df.shape[1]), df.columns, fontsize=14)\n",
    "cb = plt.colorbar()\n",
    "cb.ax.tick_params(labelsize=14)\n",
    "plt.title('Correlation Matrix', fontsize=16)"
   ]
  },
  {
   "cell_type": "code",
   "execution_count": 124,
   "id": "f4574a00",
   "metadata": {},
   "outputs": [
    {
     "data": {
      "text/html": [
       "<div>\n",
       "<style scoped>\n",
       "    .dataframe tbody tr th:only-of-type {\n",
       "        vertical-align: middle;\n",
       "    }\n",
       "\n",
       "    .dataframe tbody tr th {\n",
       "        vertical-align: top;\n",
       "    }\n",
       "\n",
       "    .dataframe thead th {\n",
       "        text-align: right;\n",
       "    }\n",
       "</style>\n",
       "<table border=\"1\" class=\"dataframe\">\n",
       "  <thead>\n",
       "    <tr style=\"text-align: right;\">\n",
       "      <th></th>\n",
       "      <th>2008_2013_ratio</th>\n",
       "      <th>2013_2018_ratio</th>\n",
       "      <th>2008_2018_ratio</th>\n",
       "      <th>total_budget</th>\n",
       "      <th>clean_air</th>\n",
       "      <th>clean_environ</th>\n",
       "      <th>health_training</th>\n",
       "      <th>school_awareness</th>\n",
       "      <th>media_awareness</th>\n",
       "      <th>sub_counselling</th>\n",
       "    </tr>\n",
       "  </thead>\n",
       "  <tbody>\n",
       "    <tr>\n",
       "      <th>2008_2013_ratio</th>\n",
       "      <td>1.0000</td>\n",
       "      <td>-0.7070</td>\n",
       "      <td>0.5894</td>\n",
       "      <td>-0.0493</td>\n",
       "      <td>-0.0509</td>\n",
       "      <td>-0.0265</td>\n",
       "      <td>-0.0498</td>\n",
       "      <td>-0.0642</td>\n",
       "      <td>-0.0133</td>\n",
       "      <td>-0.0460</td>\n",
       "    </tr>\n",
       "    <tr>\n",
       "      <th>2013_2018_ratio</th>\n",
       "      <td>-0.7070</td>\n",
       "      <td>1.0000</td>\n",
       "      <td>0.0334</td>\n",
       "      <td>-0.1563</td>\n",
       "      <td>-0.1511</td>\n",
       "      <td>-0.1274</td>\n",
       "      <td>-0.1285</td>\n",
       "      <td>-0.1424</td>\n",
       "      <td>-0.1149</td>\n",
       "      <td>-0.1314</td>\n",
       "    </tr>\n",
       "    <tr>\n",
       "      <th>2008_2018_ratio</th>\n",
       "      <td>0.5894</td>\n",
       "      <td>0.0334</td>\n",
       "      <td>1.0000</td>\n",
       "      <td>-0.1957</td>\n",
       "      <td>-0.2093</td>\n",
       "      <td>-0.1413</td>\n",
       "      <td>-0.1618</td>\n",
       "      <td>-0.2006</td>\n",
       "      <td>-0.1044</td>\n",
       "      <td>-0.1641</td>\n",
       "    </tr>\n",
       "    <tr>\n",
       "      <th>total_budget</th>\n",
       "      <td>-0.0493</td>\n",
       "      <td>-0.1563</td>\n",
       "      <td>-0.1957</td>\n",
       "      <td>1.0000</td>\n",
       "      <td>0.8900</td>\n",
       "      <td>0.8855</td>\n",
       "      <td>0.7932</td>\n",
       "      <td>0.8713</td>\n",
       "      <td>0.8107</td>\n",
       "      <td>0.8611</td>\n",
       "    </tr>\n",
       "    <tr>\n",
       "      <th>clean_air</th>\n",
       "      <td>-0.0509</td>\n",
       "      <td>-0.1511</td>\n",
       "      <td>-0.2093</td>\n",
       "      <td>0.8900</td>\n",
       "      <td>1.0000</td>\n",
       "      <td>0.7162</td>\n",
       "      <td>0.6574</td>\n",
       "      <td>0.7432</td>\n",
       "      <td>0.6026</td>\n",
       "      <td>0.7514</td>\n",
       "    </tr>\n",
       "    <tr>\n",
       "      <th>clean_environ</th>\n",
       "      <td>-0.0265</td>\n",
       "      <td>-0.1274</td>\n",
       "      <td>-0.1413</td>\n",
       "      <td>0.8855</td>\n",
       "      <td>0.7162</td>\n",
       "      <td>1.0000</td>\n",
       "      <td>0.6383</td>\n",
       "      <td>0.6557</td>\n",
       "      <td>0.6800</td>\n",
       "      <td>0.7353</td>\n",
       "    </tr>\n",
       "    <tr>\n",
       "      <th>health_training</th>\n",
       "      <td>-0.0498</td>\n",
       "      <td>-0.1285</td>\n",
       "      <td>-0.1618</td>\n",
       "      <td>0.7932</td>\n",
       "      <td>0.6574</td>\n",
       "      <td>0.6383</td>\n",
       "      <td>1.0000</td>\n",
       "      <td>0.6206</td>\n",
       "      <td>0.6894</td>\n",
       "      <td>0.7151</td>\n",
       "    </tr>\n",
       "    <tr>\n",
       "      <th>school_awareness</th>\n",
       "      <td>-0.0642</td>\n",
       "      <td>-0.1424</td>\n",
       "      <td>-0.2006</td>\n",
       "      <td>0.8713</td>\n",
       "      <td>0.7432</td>\n",
       "      <td>0.6557</td>\n",
       "      <td>0.6206</td>\n",
       "      <td>1.0000</td>\n",
       "      <td>0.6584</td>\n",
       "      <td>0.6865</td>\n",
       "    </tr>\n",
       "    <tr>\n",
       "      <th>media_awareness</th>\n",
       "      <td>-0.0133</td>\n",
       "      <td>-0.1149</td>\n",
       "      <td>-0.1044</td>\n",
       "      <td>0.8107</td>\n",
       "      <td>0.6026</td>\n",
       "      <td>0.6800</td>\n",
       "      <td>0.6894</td>\n",
       "      <td>0.6584</td>\n",
       "      <td>1.0000</td>\n",
       "      <td>0.7035</td>\n",
       "    </tr>\n",
       "    <tr>\n",
       "      <th>sub_counselling</th>\n",
       "      <td>-0.0460</td>\n",
       "      <td>-0.1314</td>\n",
       "      <td>-0.1641</td>\n",
       "      <td>0.8611</td>\n",
       "      <td>0.7514</td>\n",
       "      <td>0.7353</td>\n",
       "      <td>0.7151</td>\n",
       "      <td>0.6865</td>\n",
       "      <td>0.7035</td>\n",
       "      <td>1.0000</td>\n",
       "    </tr>\n",
       "  </tbody>\n",
       "</table>\n",
       "</div>"
      ],
      "text/plain": [
       "                                          2008_2013_ratio  \\\n",
       "2008_2013_ratio                                    1.0000   \n",
       "2013_2018_ratio                                   -0.7070   \n",
       "2008_2018_ratio                                    0.5894   \n",
       "total_budget                                      -0.0493   \n",
       "clean_air                                         -0.0509   \n",
       "clean_environ                                     -0.0265   \n",
       "health_training                                   -0.0498   \n",
       "school_awareness                                  -0.0642   \n",
       "media_awareness                                   -0.0133   \n",
       "sub_counselling                                   -0.0460   \n",
       "\n",
       "                                          2013_2018_ratio  \\\n",
       "2008_2013_ratio                                   -0.7070   \n",
       "2013_2018_ratio                                    1.0000   \n",
       "2008_2018_ratio                                    0.0334   \n",
       "total_budget                                      -0.1563   \n",
       "clean_air                                         -0.1511   \n",
       "clean_environ                                     -0.1274   \n",
       "health_training                                   -0.1285   \n",
       "school_awareness                                  -0.1424   \n",
       "media_awareness                                   -0.1149   \n",
       "sub_counselling                                   -0.1314   \n",
       "\n",
       "                                          2008_2018_ratio  \\\n",
       "2008_2013_ratio                                    0.5894   \n",
       "2013_2018_ratio                                    0.0334   \n",
       "2008_2018_ratio                                    1.0000   \n",
       "total_budget                                      -0.1957   \n",
       "clean_air                                         -0.2093   \n",
       "clean_environ                                     -0.1413   \n",
       "health_training                                   -0.1618   \n",
       "school_awareness                                  -0.2006   \n",
       "media_awareness                                   -0.1044   \n",
       "sub_counselling                                   -0.1641   \n",
       "\n",
       "                                             total_budget  \\\n",
       "2008_2013_ratio                                   -0.0493   \n",
       "2013_2018_ratio                                   -0.1563   \n",
       "2008_2018_ratio                                   -0.1957   \n",
       "total_budget                                       1.0000   \n",
       "clean_air                                          0.8900   \n",
       "clean_environ                                      0.8855   \n",
       "health_training                                    0.7932   \n",
       "school_awareness                                   0.8713   \n",
       "media_awareness                                    0.8107   \n",
       "sub_counselling                                    0.8611   \n",
       "\n",
       "                                                clean_air  \\\n",
       "2008_2013_ratio                                   -0.0509   \n",
       "2013_2018_ratio                                   -0.1511   \n",
       "2008_2018_ratio                                   -0.2093   \n",
       "total_budget                                       0.8900   \n",
       "clean_air                                          1.0000   \n",
       "clean_environ                                      0.7162   \n",
       "health_training                                    0.6574   \n",
       "school_awareness                                   0.7432   \n",
       "media_awareness                                    0.6026   \n",
       "sub_counselling                                    0.7514   \n",
       "\n",
       "                                            clean_environ  \\\n",
       "2008_2013_ratio                                   -0.0265   \n",
       "2013_2018_ratio                                   -0.1274   \n",
       "2008_2018_ratio                                   -0.1413   \n",
       "total_budget                                       0.8855   \n",
       "clean_air                                          0.7162   \n",
       "clean_environ                                      1.0000   \n",
       "health_training                                    0.6383   \n",
       "school_awareness                                   0.6557   \n",
       "media_awareness                                    0.6800   \n",
       "sub_counselling                                    0.7353   \n",
       "\n",
       "                                          health_training  \\\n",
       "2008_2013_ratio                                   -0.0498   \n",
       "2013_2018_ratio                                   -0.1285   \n",
       "2008_2018_ratio                                   -0.1618   \n",
       "total_budget                                       0.7932   \n",
       "clean_air                                          0.6574   \n",
       "clean_environ                                      0.6383   \n",
       "health_training                                    1.0000   \n",
       "school_awareness                                   0.6206   \n",
       "media_awareness                                    0.6894   \n",
       "sub_counselling                                    0.7151   \n",
       "\n",
       "                                         school_awareness  \\\n",
       "2008_2013_ratio                                   -0.0642   \n",
       "2013_2018_ratio                                   -0.1424   \n",
       "2008_2018_ratio                                   -0.2006   \n",
       "total_budget                                       0.8713   \n",
       "clean_air                                          0.7432   \n",
       "clean_environ                                      0.6557   \n",
       "health_training                                    0.6206   \n",
       "school_awareness                                   1.0000   \n",
       "media_awareness                                    0.6584   \n",
       "sub_counselling                                    0.6865   \n",
       "\n",
       "                                          media_awareness  \\\n",
       "2008_2013_ratio                                   -0.0133   \n",
       "2013_2018_ratio                                   -0.1149   \n",
       "2008_2018_ratio                                   -0.1044   \n",
       "total_budget                                       0.8107   \n",
       "clean_air                                          0.6026   \n",
       "clean_environ                                      0.6800   \n",
       "health_training                                    0.6894   \n",
       "school_awareness                                   0.6584   \n",
       "media_awareness                                    1.0000   \n",
       "sub_counselling                                    0.7035   \n",
       "\n",
       "                                          sub_counselling  \n",
       "2008_2013_ratio                                   -0.0460  \n",
       "2013_2018_ratio                                   -0.1314  \n",
       "2008_2018_ratio                                   -0.1641  \n",
       "total_budget                                       0.8611  \n",
       "clean_air                                          0.7514  \n",
       "clean_environ                                      0.7353  \n",
       "health_training                                    0.7151  \n",
       "school_awareness                                   0.6865  \n",
       "media_awareness                                    0.7035  \n",
       "sub_counselling                                    1.0000  "
      ]
     },
     "execution_count": 124,
     "metadata": {},
     "output_type": "execute_result"
    }
   ],
   "source": [
    "df.corr() # pandas' function"
   ]
  },
  {
   "cell_type": "markdown",
   "id": "dfc101f3",
   "metadata": {},
   "source": [
    "# Linear Regression"
   ]
  },
  {
   "cell_type": "code",
   "execution_count": 125,
   "id": "62895684",
   "metadata": {},
   "outputs": [],
   "source": [
    "data_filename = 'CW1.csv'\n",
    "output_filename = 'regression.png'"
   ]
  },
  {
   "cell_type": "code",
   "execution_count": 126,
   "id": "6d190a33",
   "metadata": {},
   "outputs": [],
   "source": [
    "figure_width, figure_height = 7,7\n",
    "\n",
    "import matplotlib.pyplot as plt\n",
    "import statsmodels.api as sms\n",
    "import numpy as np\n",
    "\n",
    "data = np.genfromtxt(data_filename,delimiter = ',')"
   ]
  },
  {
   "cell_type": "markdown",
   "id": "6f5e2635",
   "metadata": {},
   "source": [
    "## 2008-2013"
   ]
  },
  {
   "cell_type": "code",
   "execution_count": 127,
   "id": "3de12b48",
   "metadata": {},
   "outputs": [],
   "source": [
    "x_values = data[1:,4]\n",
    "y_values = data[1:,1]"
   ]
  },
  {
   "cell_type": "code",
   "execution_count": 128,
   "id": "f4c2d74d",
   "metadata": {},
   "outputs": [
    {
     "data": {
      "text/plain": [
       "array([ 139000.,  220000.,  160000.,  161000.,  130000.,  199000.,\n",
       "        831000.,   91000.,   99000.,  201000.,  130000.,   90000.,\n",
       "        449000.,  239000.,  230000.,  370000.,  290000.,  349000.,\n",
       "        141000.,  149000.,  551000.,  180000.,  180000.,  299000.,\n",
       "        281000.,   50000.,  411000.,  240000.,  230000.,  340000.,\n",
       "         79000.,  189000.,  580000.,  580000.,  200000.,  310000.,\n",
       "        260000.,  411000.,  250000.,  269000.,  449000.,  249000.,\n",
       "       1070000.,  131000.,  459000.,  179000.,  169000.,   99000.,\n",
       "        121000., 1120000.,  181000.,  191000.,   89000.,  211000.,\n",
       "        120000.,  890000.,  209000.,  190000.,  120000.,    2000.,\n",
       "        140000.,  130000., 1170000.,  200000.,  139000.,  330000.,\n",
       "        120000.,  260000.,  800000.,  550000.,  241000.,  459000.,\n",
       "        180000.,  491000.,  310000.,  140000.,  439000.,  190000.,\n",
       "        160000.,  101000.,  210000.,  220000.,  200000.,  619000.,\n",
       "        110000.,  141000.,  160000.,  150000.,  489000.,  590000.,\n",
       "        240000.,  221000.,  529000.,  180000.,  559000.,  130000.,\n",
       "        209000.,  100000.,  162000.,  110000.,  200000.,  119000.,\n",
       "        130000.,  140000.,  210000.,   51000.,  189000.,  250000.,\n",
       "        220000.,  430000.,  231000.,  110000.,  149000.,  439000.,\n",
       "        210000.,  130000.,  191000.,  119000.,  221000.,  139000.,\n",
       "        561000.,  220000.,  160000.,  200000.,  559000.,  260000.,\n",
       "       1010000.,  160000.,  150000.,  171000.,  110000.,  120000.,\n",
       "        121000.,  210000.,  150000.,  240000.,  201000.,  180000.,\n",
       "        200000.,  180000.,  440000.,  141000.,  700000.,  200000.,\n",
       "        260000.,  380000.,  110000.,  209000.,  109000.,  201000.,\n",
       "        470000.,  140000.])"
      ]
     },
     "execution_count": 128,
     "metadata": {},
     "output_type": "execute_result"
    }
   ],
   "source": [
    "x_values"
   ]
  },
  {
   "cell_type": "code",
   "execution_count": 129,
   "id": "d219064c",
   "metadata": {},
   "outputs": [
    {
     "data": {
      "text/plain": [
       "array([ 0.00684413,  0.09042343,  0.16418846, -0.04659779,  0.00919946,\n",
       "        0.08082503,  0.06972813,  0.029347  , -0.00455138,  0.10224925,\n",
       "       -0.02070659,  0.10512784,  0.04845161,  0.0731921 , -0.02126414,\n",
       "        0.02373063,  0.16287315,  0.01174331, -0.02537928, -0.00746292,\n",
       "       -0.03953775,  0.05289488,  0.09533164,  0.04389912,  0.03924023,\n",
       "        0.0119689 ,  0.02522284,  0.08699924,  0.10748413,  0.03133303,\n",
       "        0.06213049,  0.01201534,  0.02525365, -0.0067044 ,  0.05218685,\n",
       "        0.04506169,  0.03193379,  0.07060674,  0.08263702,  0.04453669,\n",
       "        0.01712174,  0.09131187, -0.0015586 ,  0.06188115,  0.03310877,\n",
       "        0.15932119,  0.06526692,  0.04183441,  0.03215851,  0.01839391,\n",
       "        0.15847008,  0.07859846,  0.0389443 ,  0.02694249, -0.0082056 ,\n",
       "        0.02918947,  0.17601302,  0.08234428,  0.04766338, -0.81551363,\n",
       "        0.06700472,  0.07939602,  0.01908075,  0.04454435,  0.0228577 ,\n",
       "        0.07345634,  0.1227409 ,  0.04592605,  0.02134509,  0.0998008 ,\n",
       "        0.01193832,  0.03024713,  0.03994613, -0.00867005,  0.11714269,\n",
       "        0.05530803,  0.05643155, -0.01012463,  0.07122835,  0.04158773,\n",
       "       -0.01503135,  0.04954457,  0.19235037,  0.05127182, -0.01935791,\n",
       "        0.08761791,  0.02015915,  0.08382727,  0.0159649 ,  0.00604358,\n",
       "        0.02289078,  0.0221207 , -0.0048404 ,  0.08977208,  0.02486189,\n",
       "       -0.04333312,  0.08256159,  0.03762469,  0.02201932,  0.00370331,\n",
       "        0.01189963,  0.14689305,  0.27862342,  0.05377167,  0.07072076,\n",
       "        0.11522383,  0.00196831,  0.03093419,  0.03097326,  0.09266967,\n",
       "        0.00881882,  0.05056112,  0.11447841,  0.07125238,  0.03450052,\n",
       "        0.00166359, -0.03659647,  0.02007508,  0.07572733, -0.02902818,\n",
       "        0.00703188,  0.01856797,  0.0845991 , -0.0174671 , -0.02020365,\n",
       "        0.13159789,  0.00478289,  0.2469241 ,  0.05123385,  0.06335482,\n",
       "        0.05307285,  0.08700682, -0.00347073,  0.04563078,  0.07313534,\n",
       "        0.01299284, -0.00405728,  0.1412962 ,  0.04765526,  0.01316444,\n",
       "        0.02954696,  0.10985168, -0.01230283,  0.10621712,  0.00328982,\n",
       "       -0.00463256,  0.05123524,  0.03091947,  0.1900215 ,  0.03599233,\n",
       "        0.03914599,  0.04681878])"
      ]
     },
     "execution_count": 129,
     "metadata": {},
     "output_type": "execute_result"
    }
   ],
   "source": [
    "y_values"
   ]
  },
  {
   "cell_type": "code",
   "execution_count": 130,
   "id": "f9826459",
   "metadata": {},
   "outputs": [
    {
     "name": "stdout",
     "output_type": "stream",
     "text": [
      "                            OLS Regression Results                            \n",
      "==============================================================================\n",
      "Dep. Variable:                      y   R-squared:                       0.002\n",
      "Model:                            OLS   Adj. R-squared:                 -0.004\n",
      "Method:                 Least Squares   F-statistic:                    0.3651\n",
      "Date:                Sun, 14 Nov 2021   Prob (F-statistic):              0.547\n",
      "Time:                        14:12:45   Log-Likelihood:                 153.23\n",
      "No. Observations:                 152   AIC:                            -302.5\n",
      "Df Residuals:                     150   BIC:                            -296.4\n",
      "Df Model:                           1                                         \n",
      "Covariance Type:            nonrobust                                         \n",
      "==============================================================================\n",
      "                 coef    std err          t      P>|t|      [0.025      0.975]\n",
      "------------------------------------------------------------------------------\n",
      "const          0.0490      0.012      4.169      0.000       0.026       0.072\n",
      "x1         -2.077e-08   3.44e-08     -0.604      0.547   -8.87e-08    4.71e-08\n",
      "==============================================================================\n",
      "Omnibus:                      221.686   Durbin-Watson:                   2.043\n",
      "Prob(Omnibus):                  0.000   Jarque-Bera (JB):            22358.602\n",
      "Skew:                          -5.838   Prob(JB):                         0.00\n",
      "Kurtosis:                      61.258   Cond. No.                     5.58e+05\n",
      "==============================================================================\n",
      "\n",
      "Notes:\n",
      "[1] Standard Errors assume that the covariance matrix of the errors is correctly specified.\n",
      "[2] The condition number is large, 5.58e+05. This might indicate that there are\n",
      "strong multicollinearity or other numerical problems.\n",
      "\n"
     ]
    }
   ],
   "source": [
    "X_values = sms.add_constant(x_values)\n",
    "regression_model_a = sms.OLS(y_values, X_values)\n",
    "regression_model_b = regression_model_a.fit()\n",
    "\n",
    "print(regression_model_b.summary())\n",
    "print()"
   ]
  },
  {
   "cell_type": "code",
   "execution_count": 131,
   "id": "2741a4ea",
   "metadata": {},
   "outputs": [],
   "source": [
    "gradient  = regression_model_b.params[1]\n",
    "intercept = regression_model_b.params[0]\n",
    "Rsquared  = regression_model_b.rsquared\n",
    "MSE       = regression_model_b.mse_resid\n",
    "pvalue    = regression_model_b.f_pvalue"
   ]
  },
  {
   "cell_type": "code",
   "execution_count": 132,
   "id": "c72951d1",
   "metadata": {},
   "outputs": [
    {
     "name": "stdout",
     "output_type": "stream",
     "text": [
      "gradient  = -2.0765754996277658e-08\n",
      "intercept = 0.04902622061534252\n",
      "Rsquared  = 0.0024278240544691743\n",
      "MSE       = 0.00790050308596788\n",
      "pvalue    = 0.5466221836683423\n"
     ]
    }
   ],
   "source": [
    "print(\"gradient  =\", regression_model_b.params[1])\n",
    "print(\"intercept =\", regression_model_b.params[0])\n",
    "print(\"Rsquared  =\", regression_model_b.rsquared)\n",
    "print(\"MSE       =\", regression_model_b.mse_resid)\n",
    "print(\"pvalue    =\", regression_model_b.f_pvalue)"
   ]
  },
  {
   "cell_type": "code",
   "execution_count": 133,
   "id": "de329585",
   "metadata": {},
   "outputs": [],
   "source": [
    "x_lobf = [min(x_values),max(x_values)]\n",
    "y_lobf = [x_lobf[0]*gradient + intercept,x_lobf[1]*gradient + intercept]"
   ]
  },
  {
   "cell_type": "code",
   "execution_count": 134,
   "id": "687cdf35",
   "metadata": {},
   "outputs": [
    {
     "data": {
      "text/plain": [
       "<Figure size 504x504 with 0 Axes>"
      ]
     },
     "execution_count": 134,
     "metadata": {},
     "output_type": "execute_result"
    },
    {
     "data": {
      "text/plain": [
       "<Figure size 504x504 with 0 Axes>"
      ]
     },
     "metadata": {},
     "output_type": "display_data"
    }
   ],
   "source": [
    "plt.figure(figsize=(figure_width,figure_height))"
   ]
  },
  {
   "cell_type": "code",
   "execution_count": 135,
   "id": "9c4250a1",
   "metadata": {},
   "outputs": [
    {
     "data": {
      "text/plain": [
       "(0.0, 5000000.0)"
      ]
     },
     "execution_count": 135,
     "metadata": {},
     "output_type": "execute_result"
    },
    {
     "data": {
      "image/png": "[encoded data removed]",
      "text/plain": [
       "<Figure size 432x288 with 1 Axes>"
      ]
     },
     "metadata": {
      "needs_background": "light"
     },
     "output_type": "display_data"
    }
   ],
   "source": [
    "x_min,x_max = 0,5000000\n",
    "y_min,y_max = 0,5000000\n",
    "plt.xlim([x_min,x_max])\n",
    "plt.ylim([y_min,y_max])"
   ]
  },
  {
   "cell_type": "code",
   "execution_count": 138,
   "id": "b046f241",
   "metadata": {},
   "outputs": [
    {
     "data": {
      "image/png": "[encoded data removed]",
      "text/plain": [
       "<Figure size 432x288 with 1 Axes>"
      ]
     },
     "metadata": {
      "needs_background": "light"
     },
     "output_type": "display_data"
    }
   ],
   "source": [
    "output_filename = '0813_regression_original.png'\n",
    "plt.plot(x_values,y_values,'b.',x_lobf,y_lobf,'r--')\n",
    "\n",
    "plt.xlabel('Total budget')\n",
    "plt.ylabel('2008-2013 ratio growth rate')\n",
    "plt.title('2008-2013 ratio growth rate vs. Total budget')\n",
    "\n",
    "plt.savefig(output_filename)"
   ]
  },
  {
   "cell_type": "markdown",
   "id": "8a91e337",
   "metadata": {},
   "source": [
    "### Residual Analysis"
   ]
  },
  {
   "cell_type": "code",
   "execution_count": 139,
   "id": "634ecc5d",
   "metadata": {},
   "outputs": [
    {
     "data": {
      "image/png": "[encoded data removed]",
      "text/plain": [
       "<Figure size 432x288 with 1 Axes>"
      ]
     },
     "metadata": {
      "needs_background": "light"
     },
     "output_type": "display_data"
    }
   ],
   "source": [
    "# plot \n",
    "plt.scatter(regression_model_b.fittedvalues, regression_model_b.resid)\n",
    "# adding title and labels\n",
    "plt.xlabel('Fitted total budget')\n",
    "plt.ylabel('Residual')\n",
    "plt.title('2008-2013 Residual vs. Fitted Plot of total budget')\n",
    "plt.show()"
   ]
  },
  {
   "cell_type": "markdown",
   "id": "8c27c6f6",
   "metadata": {},
   "source": [
    "## 2013-2018"
   ]
  },
  {
   "cell_type": "code",
   "execution_count": 140,
   "id": "67484521",
   "metadata": {},
   "outputs": [],
   "source": [
    "x_values = data[1:,4]\n",
    "y2_values = data[1:,2]"
   ]
  },
  {
   "cell_type": "code",
   "execution_count": 141,
   "id": "1998100d",
   "metadata": {},
   "outputs": [
    {
     "name": "stdout",
     "output_type": "stream",
     "text": [
      "                            OLS Regression Results                            \n",
      "==============================================================================\n",
      "Dep. Variable:                      y   R-squared:                       0.024\n",
      "Model:                            OLS   Adj. R-squared:                  0.018\n",
      "Method:                 Least Squares   F-statistic:                     3.754\n",
      "Date:                Sun, 14 Nov 2021   Prob (F-statistic):             0.0546\n",
      "Time:                        14:15:15   Log-Likelihood:                0.55367\n",
      "No. Observations:                 152   AIC:                             2.893\n",
      "Df Residuals:                     150   BIC:                             8.940\n",
      "Df Model:                           1                                         \n",
      "Covariance Type:            nonrobust                                         \n",
      "==============================================================================\n",
      "                 coef    std err          t      P>|t|      [0.025      0.975]\n",
      "------------------------------------------------------------------------------\n",
      "const          0.1531      0.032      4.767      0.000       0.090       0.216\n",
      "x1         -1.818e-07   9.38e-08     -1.938      0.055   -3.67e-07    3.59e-09\n",
      "==============================================================================\n",
      "Omnibus:                      296.660   Durbin-Watson:                   1.922\n",
      "Prob(Omnibus):                  0.000   Jarque-Bera (JB):            78549.398\n",
      "Skew:                           9.827   Prob(JB):                         0.00\n",
      "Kurtosis:                     112.619   Cond. No.                     5.58e+05\n",
      "==============================================================================\n",
      "\n",
      "Notes:\n",
      "[1] Standard Errors assume that the covariance matrix of the errors is correctly specified.\n",
      "[2] The condition number is large, 5.58e+05. This might indicate that there are\n",
      "strong multicollinearity or other numerical problems.\n",
      "\n"
     ]
    }
   ],
   "source": [
    "X_values = sms.add_constant(x_values)\n",
    "regression_model_a2 = sms.OLS(y2_values, X_values)\n",
    "regression_model_b2 = regression_model_a2.fit()\n",
    "\n",
    "print(regression_model_b2.summary())\n",
    "print() "
   ]
  },
  {
   "cell_type": "code",
   "execution_count": 142,
   "id": "b560c30d",
   "metadata": {},
   "outputs": [],
   "source": [
    "gradient2  = regression_model_b2.params[1]\n",
    "intercept2 = regression_model_b2.params[0]\n",
    "Rsquared2  = regression_model_b2.rsquared\n",
    "MSE2       = regression_model_b2.mse_resid\n",
    "pvalue2    = regression_model_b2.f_pvalue"
   ]
  },
  {
   "cell_type": "code",
   "execution_count": 143,
   "id": "44eb061f",
   "metadata": {},
   "outputs": [
    {
     "name": "stdout",
     "output_type": "stream",
     "text": [
      "gradient  = -1.8182736418601182e-07\n",
      "intercept = 0.15305249104809654\n",
      "Rsquared  = 0.024417465072032685\n",
      "MSE       = 0.05889983881022604\n",
      "pvalue    = 0.05455082453786073\n"
     ]
    }
   ],
   "source": [
    "print(\"gradient  =\", regression_model_b2.params[1])\n",
    "print(\"intercept =\", regression_model_b2.params[0])\n",
    "print(\"Rsquared  =\", regression_model_b2.rsquared)\n",
    "print(\"MSE       =\", regression_model_b2.mse_resid)\n",
    "print(\"pvalue    =\", regression_model_b2.f_pvalue)"
   ]
  },
  {
   "cell_type": "code",
   "execution_count": 144,
   "id": "d3da5683",
   "metadata": {},
   "outputs": [],
   "source": [
    "x_lobf2 = [min(x_values),max(x_values)]\n",
    "y_lobf2 = [x_lobf2[0]*gradient2 + intercept2,x_lobf2[1]*gradient2 + intercept2]"
   ]
  },
  {
   "cell_type": "code",
   "execution_count": 145,
   "id": "d19136e9",
   "metadata": {},
   "outputs": [
    {
     "data": {
      "text/plain": [
       "<Figure size 504x504 with 0 Axes>"
      ]
     },
     "execution_count": 145,
     "metadata": {},
     "output_type": "execute_result"
    },
    {
     "data": {
      "text/plain": [
       "<Figure size 504x504 with 0 Axes>"
      ]
     },
     "metadata": {},
     "output_type": "display_data"
    }
   ],
   "source": [
    "plt.figure(figsize=(figure_width,figure_height))"
   ]
  },
  {
   "cell_type": "code",
   "execution_count": 146,
   "id": "49d4da8c",
   "metadata": {},
   "outputs": [
    {
     "data": {
      "text/plain": [
       "(0.0, 5000000.0)"
      ]
     },
     "execution_count": 146,
     "metadata": {},
     "output_type": "execute_result"
    },
    {
     "data": {
      "image/png": "[encoded data removed]",
      "text/plain": [
       "<Figure size 432x288 with 1 Axes>"
      ]
     },
     "metadata": {
      "needs_background": "light"
     },
     "output_type": "display_data"
    }
   ],
   "source": [
    "x_min,x_max = 0,5000000\n",
    "y_min,y_max = 0,5000000\n",
    "plt.xlim([x_min,x_max])\n",
    "plt.ylim([y_min,y_max])"
   ]
  },
  {
   "cell_type": "code",
   "execution_count": 147,
   "id": "66697767",
   "metadata": {},
   "outputs": [
    {
     "data": {
      "image/png": "[encoded data removed]",
      "text/plain": [
       "<Figure size 432x288 with 1 Axes>"
      ]
     },
     "metadata": {
      "needs_background": "light"
     },
     "output_type": "display_data"
    }
   ],
   "source": [
    "output_filename2 = 'regression_1318_original.png'\n",
    "plt.plot(x_values,y2_values,'b.',x_lobf2,y_lobf2,'r--')\n",
    "\n",
    "plt.xlabel('Total budget')\n",
    "plt.ylabel('2013-2018 ratio growth rate')\n",
    "plt.title('2013-2018 ratio growth rate vs. Total budget')\n",
    "\n",
    "plt.savefig(output_filename2)"
   ]
  },
  {
   "cell_type": "markdown",
   "id": "300226a7",
   "metadata": {},
   "source": [
    "### Residual Analysis"
   ]
  },
  {
   "cell_type": "code",
   "execution_count": 148,
   "id": "7d26c1b1",
   "metadata": {},
   "outputs": [
    {
     "data": {
      "image/png": "[encoded data removed]",
      "text/plain": [
       "<Figure size 432x288 with 1 Axes>"
      ]
     },
     "metadata": {
      "needs_background": "light"
     },
     "output_type": "display_data"
    }
   ],
   "source": [
    "# plot \n",
    "plt.scatter(regression_model_b2.fittedvalues, regression_model_b2.resid)\n",
    "# adding title and labels\n",
    "plt.xlabel('Fitted total budget')\n",
    "plt.ylabel('Residual')\n",
    "plt.title('2013-2018 Residual vs. Fitted Plot of total budget')\n",
    "plt.show()"
   ]
  },
  {
   "cell_type": "markdown",
   "id": "3e12a10d",
   "metadata": {},
   "source": [
    "## 2008-2018"
   ]
  },
  {
   "cell_type": "code",
   "execution_count": 149,
   "id": "2a0bbd34",
   "metadata": {},
   "outputs": [],
   "source": [
    "x_values = data[1:,4]\n",
    "y3_values = data[1:,3]"
   ]
  },
  {
   "cell_type": "code",
   "execution_count": 150,
   "id": "dc5baf29",
   "metadata": {},
   "outputs": [
    {
     "name": "stdout",
     "output_type": "stream",
     "text": [
      "                            OLS Regression Results                            \n",
      "==============================================================================\n",
      "Dep. Variable:                      y   R-squared:                       0.024\n",
      "Model:                            OLS   Adj. R-squared:                  0.018\n",
      "Method:                 Least Squares   F-statistic:                     3.754\n",
      "Date:                Sun, 14 Nov 2021   Prob (F-statistic):             0.0546\n",
      "Time:                        14:16:47   Log-Likelihood:                0.55367\n",
      "No. Observations:                 152   AIC:                             2.893\n",
      "Df Residuals:                     150   BIC:                             8.940\n",
      "Df Model:                           1                                         \n",
      "Covariance Type:            nonrobust                                         \n",
      "==============================================================================\n",
      "                 coef    std err          t      P>|t|      [0.025      0.975]\n",
      "------------------------------------------------------------------------------\n",
      "const          0.1531      0.032      4.767      0.000       0.090       0.216\n",
      "x1         -1.818e-07   9.38e-08     -1.938      0.055   -3.67e-07    3.59e-09\n",
      "==============================================================================\n",
      "Omnibus:                      296.660   Durbin-Watson:                   1.922\n",
      "Prob(Omnibus):                  0.000   Jarque-Bera (JB):            78549.398\n",
      "Skew:                           9.827   Prob(JB):                         0.00\n",
      "Kurtosis:                     112.619   Cond. No.                     5.58e+05\n",
      "==============================================================================\n",
      "\n",
      "Notes:\n",
      "[1] Standard Errors assume that the covariance matrix of the errors is correctly specified.\n",
      "[2] The condition number is large, 5.58e+05. This might indicate that there are\n",
      "strong multicollinearity or other numerical problems.\n",
      "\n"
     ]
    }
   ],
   "source": [
    "X_values = sms.add_constant(x_values)\n",
    "regression_model_a3 = sms.OLS(y3_values, X_values)\n",
    "regression_model_b3 = regression_model_a2.fit()\n",
    "\n",
    "print(regression_model_b3.summary())\n",
    "print() "
   ]
  },
  {
   "cell_type": "code",
   "execution_count": 151,
   "id": "c52385e5",
   "metadata": {},
   "outputs": [],
   "source": [
    "gradient3  = regression_model_b3.params[1]\n",
    "intercept3 = regression_model_b3.params[0]\n",
    "Rsquared3  = regression_model_b3.rsquared\n",
    "MSE3       = regression_model_b3.mse_resid\n",
    "pvalue3    = regression_model_b3.f_pvalue"
   ]
  },
  {
   "cell_type": "code",
   "execution_count": 152,
   "id": "1db90868",
   "metadata": {},
   "outputs": [
    {
     "name": "stdout",
     "output_type": "stream",
     "text": [
      "gradient  = -1.8182736418601182e-07\n",
      "intercept = 0.15305249104809654\n",
      "Rsquared  = 0.024417465072032685\n",
      "MSE       = 0.05889983881022604\n",
      "pvalue    = 0.05455082453786073\n"
     ]
    }
   ],
   "source": [
    "print(\"gradient  =\", regression_model_b3.params[1])\n",
    "print(\"intercept =\", regression_model_b3.params[0])\n",
    "print(\"Rsquared  =\", regression_model_b3.rsquared)\n",
    "print(\"MSE       =\", regression_model_b3.mse_resid)\n",
    "print(\"pvalue    =\", regression_model_b3.f_pvalue)"
   ]
  },
  {
   "cell_type": "code",
   "execution_count": 153,
   "id": "95682b54",
   "metadata": {},
   "outputs": [],
   "source": [
    "x_lobf3 = [min(x_values),max(x_values)]\n",
    "y_lobf3 = [x_lobf3[0]*gradient3 + intercept3,x_lobf3[1]*gradient3 + intercept3]"
   ]
  },
  {
   "cell_type": "code",
   "execution_count": 154,
   "id": "99f556f0",
   "metadata": {},
   "outputs": [
    {
     "data": {
      "text/plain": [
       "<Figure size 504x504 with 0 Axes>"
      ]
     },
     "execution_count": 154,
     "metadata": {},
     "output_type": "execute_result"
    },
    {
     "data": {
      "text/plain": [
       "<Figure size 504x504 with 0 Axes>"
      ]
     },
     "metadata": {},
     "output_type": "display_data"
    }
   ],
   "source": [
    "plt.figure(figsize=(figure_width,figure_height))"
   ]
  },
  {
   "cell_type": "code",
   "execution_count": 155,
   "id": "fb2dfd4e",
   "metadata": {
    "scrolled": true
   },
   "outputs": [
    {
     "data": {
      "text/plain": [
       "(0.0, 5000000.0)"
      ]
     },
     "execution_count": 155,
     "metadata": {},
     "output_type": "execute_result"
    },
    {
     "data": {
      "image/png": "[encoded data removed]",
      "text/plain": [
       "<Figure size 432x288 with 1 Axes>"
      ]
     },
     "metadata": {
      "needs_background": "light"
     },
     "output_type": "display_data"
    }
   ],
   "source": [
    "x_min,x_max = 0,5000000\n",
    "y_min,y_max = 0,5000000\n",
    "plt.xlim([x_min,x_max])\n",
    "plt.ylim([y_min,y_max])"
   ]
  },
  {
   "cell_type": "code",
   "execution_count": 156,
   "id": "c8e4f641",
   "metadata": {},
   "outputs": [
    {
     "data": {
      "image/png": "[encoded data removed]",
      "text/plain": [
       "<Figure size 432x288 with 1 Axes>"
      ]
     },
     "metadata": {
      "needs_background": "light"
     },
     "output_type": "display_data"
    }
   ],
   "source": [
    "output_filename3 = 'regression_0818_original.png'\n",
    "plt.plot(x_values,y3_values,'b.',x_lobf3,y_lobf3,'r--')\n",
    "\n",
    "plt.xlabel('Total budget')\n",
    "plt.ylabel('2008-2018 ratio growth rate')\n",
    "plt.title('2008-2018 ratio growth rate vs. Total budget')\n",
    "\n",
    "plt.savefig(output_filename3)"
   ]
  },
  {
   "cell_type": "markdown",
   "id": "76e6c1c6",
   "metadata": {},
   "source": [
    "### Residual Analysis"
   ]
  },
  {
   "cell_type": "code",
   "execution_count": 157,
   "id": "788b41e3",
   "metadata": {},
   "outputs": [
    {
     "data": {
      "image/png": "[encoded data removed]",
      "text/plain": [
       "<Figure size 432x288 with 1 Axes>"
      ]
     },
     "metadata": {
      "needs_background": "light"
     },
     "output_type": "display_data"
    }
   ],
   "source": [
    "# plot \n",
    "plt.scatter(regression_model_b3.fittedvalues, regression_model_b3.resid)\n",
    "# adding title and labels\n",
    "plt.xlabel('Fitted total budget')\n",
    "plt.ylabel('Residual')\n",
    "plt.title('2008-2018 Residual vs. Fitted Plot of total budget')\n",
    "plt.show()"
   ]
  }
 ],
 "metadata": {
  "kernelspec": {
   "display_name": "Python 3",
   "language": "python",
   "name": "python3"
  },
  "language_info": {
   "codemirror_mode": {
    "name": "ipython",
    "version": 3
   },
   "file_extension": ".py",
   "mimetype": "text/x-python",
   "name": "python",
   "nbconvert_exporter": "python",
   "pygments_lexer": "ipython3",
   "version": "3.8.8"
  }
 },
 "nbformat": 4,
 "nbformat_minor": 5
}
