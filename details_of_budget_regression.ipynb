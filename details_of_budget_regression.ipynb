{
 "cells": [
  {
   "cell_type": "code",
   "execution_count": 86,
   "id": "c15502cb",
   "metadata": {},
   "outputs": [],
   "source": [
    "data_filename = 'CW1_BU_outliers.csv'\n",
    "output_filename_air = 'regression_air.png' #5\n",
    "output_filename_en = 'regression_en.png' #6\n",
    "output_filename_ht = 'regression_ht.png' #7\n",
    "output_filename_sa = 'regression_sa.png' #8\n",
    "output_filename_ma = 'regression_ma.png' #9\n",
    "output_filename_sb = 'regression_sb.png' #10"
   ]
  },
  {
   "cell_type": "code",
   "execution_count": 87,
   "id": "85a7d90c",
   "metadata": {},
   "outputs": [],
   "source": [
    "figure_width, figure_height = 7,7\n",
    "\n",
    "import matplotlib.pyplot as plt\n",
    "import statsmodels.api as sms\n",
    "import numpy as np\n",
    "\n",
    "data = np.genfromtxt(data_filename,delimiter = ',')"
   ]
  },
  {
   "cell_type": "markdown",
   "id": "f06d658d",
   "metadata": {},
   "source": [
    "### air"
   ]
  },
  {
   "cell_type": "code",
   "execution_count": 88,
   "id": "c5e68c65",
   "metadata": {},
   "outputs": [],
   "source": [
    "x_values5 = data[1:,5]\n",
    "y_values = data[1:,3]"
   ]
  },
  {
   "cell_type": "code",
   "execution_count": 89,
   "id": "a2258b8f",
   "metadata": {},
   "outputs": [
    {
     "name": "stdout",
     "output_type": "stream",
     "text": [
      "                            OLS Regression Results                            \n",
      "==============================================================================\n",
      "Dep. Variable:                      y   R-squared:                       0.069\n",
      "Model:                            OLS   Adj. R-squared:                  0.062\n",
      "Method:                 Least Squares   F-statistic:                     10.89\n",
      "Date:                Sun, 14 Nov 2021   Prob (F-statistic):            0.00121\n",
      "Time:                        16:35:44   Log-Likelihood:                 115.76\n",
      "No. Observations:                 150   AIC:                            -227.5\n",
      "Df Residuals:                     148   BIC:                            -221.5\n",
      "Df Model:                           1                                         \n",
      "Covariance Type:            nonrobust                                         \n",
      "==============================================================================\n",
      "                 coef    std err          t      P>|t|      [0.025      0.975]\n",
      "------------------------------------------------------------------------------\n",
      "const          0.1749      0.014     12.702      0.000       0.148       0.202\n",
      "x1         -5.637e-07   1.71e-07     -3.301      0.001   -9.01e-07   -2.26e-07\n",
      "==============================================================================\n",
      "Omnibus:                       37.144   Durbin-Watson:                   1.660\n",
      "Prob(Omnibus):                  0.000   Jarque-Bera (JB):               64.053\n",
      "Skew:                           1.188   Prob(JB):                     1.23e-14\n",
      "Kurtosis:                       5.144   Cond. No.                     1.21e+05\n",
      "==============================================================================\n",
      "\n",
      "Notes:\n",
      "[1] Standard Errors assume that the covariance matrix of the errors is correctly specified.\n",
      "[2] The condition number is large, 1.21e+05. This might indicate that there are\n",
      "strong multicollinearity or other numerical problems.\n",
      "\n"
     ]
    }
   ],
   "source": [
    "X_values5 = sms.add_constant(x_values5)\n",
    "regression_model_a5 = sms.OLS(y_values, X_values5)\n",
    "regression_model_b5 = regression_model_a5.fit()\n",
    "\n",
    "print(regression_model_b5.summary())\n",
    "print() "
   ]
  },
  {
   "cell_type": "code",
   "execution_count": 90,
   "id": "95936589",
   "metadata": {},
   "outputs": [],
   "source": [
    "gradient5  = regression_model_b5.params[1]\n",
    "intercept5 = regression_model_b5.params[0]\n",
    "Rsquared5  = regression_model_b5.rsquared\n",
    "MSE5       = regression_model_b5.mse_resid\n",
    "pvalue5    = regression_model_b5.f_pvalue"
   ]
  },
  {
   "cell_type": "code",
   "execution_count": 91,
   "id": "0a928560",
   "metadata": {},
   "outputs": [
    {
     "name": "stdout",
     "output_type": "stream",
     "text": [
      "gradient  = -5.637127757608813e-07\n",
      "intercept = 0.17494690795518844\n",
      "Rsquared  = 0.06856289902553603\n",
      "MSE       = 0.012677242075746045\n",
      "pvalue    = 0.001208897471994491\n"
     ]
    }
   ],
   "source": [
    "print(\"gradient  =\", regression_model_b5.params[1])\n",
    "print(\"intercept =\", regression_model_b5.params[0])\n",
    "print(\"Rsquared  =\", regression_model_b5.rsquared)\n",
    "print(\"MSE       =\", regression_model_b5.mse_resid)\n",
    "print(\"pvalue    =\", regression_model_b5.f_pvalue)"
   ]
  },
  {
   "cell_type": "code",
   "execution_count": 92,
   "id": "6bc8283b",
   "metadata": {},
   "outputs": [],
   "source": [
    "x_lobf5 = [min(x_values5),max(x_values5)]\n",
    "y_lobf5 = [x_lobf5[0]*gradient5 + intercept5,x_lobf5[1]*gradient5 + intercept5]"
   ]
  },
  {
   "cell_type": "code",
   "execution_count": 93,
   "id": "df794fe7",
   "metadata": {},
   "outputs": [
    {
     "data": {
      "text/plain": [
       "<Figure size 504x504 with 0 Axes>"
      ]
     },
     "execution_count": 93,
     "metadata": {},
     "output_type": "execute_result"
    },
    {
     "data": {
      "text/plain": [
       "<Figure size 504x504 with 0 Axes>"
      ]
     },
     "metadata": {},
     "output_type": "display_data"
    }
   ],
   "source": [
    "plt.figure(figsize=(figure_width,figure_height))"
   ]
  },
  {
   "cell_type": "code",
   "execution_count": 94,
   "id": "6f89d4eb",
   "metadata": {},
   "outputs": [
    {
     "data": {
      "text/plain": [
       "(0.0, 5000000.0)"
      ]
     },
     "execution_count": 94,
     "metadata": {},
     "output_type": "execute_result"
    },
    {
     "data": {
      "image/png": "[encoded data removed]",
      "text/plain": [
       "<Figure size 432x288 with 1 Axes>"
      ]
     },
     "metadata": {
      "needs_background": "light"
     },
     "output_type": "display_data"
    }
   ],
   "source": [
    "x_min,x_max = 0,5000000\n",
    "y_min,y_max = 0,5000000\n",
    "plt.xlim([x_min,x_max])\n",
    "plt.ylim([y_min,y_max])"
   ]
  },
  {
   "cell_type": "code",
   "execution_count": 95,
   "id": "3e7ad98d",
   "metadata": {
    "scrolled": true
   },
   "outputs": [
    {
     "data": {
      "image/png": "[encoded data removed]",
      "text/plain": [
       "<Figure size 432x288 with 1 Axes>"
      ]
     },
     "metadata": {
      "needs_background": "light"
     },
     "output_type": "display_data"
    }
   ],
   "source": [
    "plt.plot(x_values5,y_values,'b.',x_lobf5,y_lobf5,'r--')\n",
    "\n",
    "plt.xlabel('Budget of clean air')\n",
    "plt.ylabel('2008-2018 ratio growth rate')\n",
    "plt.title('2008-2018 ratio growth rate vs. Budget of clean air')\n",
    "\n",
    "plt.savefig(output_filename_air)"
   ]
  },
  {
   "cell_type": "code",
   "execution_count": 96,
   "id": "1c689c9b",
   "metadata": {},
   "outputs": [
    {
     "data": {
      "image/png": "[encoded data removed]",
      "text/plain": [
       "<Figure size 432x288 with 1 Axes>"
      ]
     },
     "metadata": {
      "needs_background": "light"
     },
     "output_type": "display_data"
    }
   ],
   "source": [
    "# plot \n",
    "plt.scatter(regression_model_b5.fittedvalues, regression_model_b5.resid)\n",
    "# adding title and labels\n",
    "plt.xlabel('Fitted budget of clean air')\n",
    "plt.ylabel('Residual')\n",
    "plt.title('2008-2018 Residual vs. Fitted Plot of budget of clean air')\n",
    "plt.show()"
   ]
  },
  {
   "cell_type": "markdown",
   "id": "2b9f66de",
   "metadata": {},
   "source": [
    "### school awareness"
   ]
  },
  {
   "cell_type": "code",
   "execution_count": 97,
   "id": "aadf8d28",
   "metadata": {},
   "outputs": [],
   "source": [
    "x_values6 = data[1:,8]\n",
    "y_values = data[1:,3]"
   ]
  },
  {
   "cell_type": "code",
   "execution_count": 98,
   "id": "2fb8e5d6",
   "metadata": {},
   "outputs": [
    {
     "name": "stdout",
     "output_type": "stream",
     "text": [
      "                            OLS Regression Results                            \n",
      "==============================================================================\n",
      "Dep. Variable:                      y   R-squared:                       0.069\n",
      "Model:                            OLS   Adj. R-squared:                  0.062\n",
      "Method:                 Least Squares   F-statistic:                     10.89\n",
      "Date:                Sun, 14 Nov 2021   Prob (F-statistic):            0.00121\n",
      "Time:                        16:36:08   Log-Likelihood:                 115.76\n",
      "No. Observations:                 150   AIC:                            -227.5\n",
      "Df Residuals:                     148   BIC:                            -221.5\n",
      "Df Model:                           1                                         \n",
      "Covariance Type:            nonrobust                                         \n",
      "==============================================================================\n",
      "                 coef    std err          t      P>|t|      [0.025      0.975]\n",
      "------------------------------------------------------------------------------\n",
      "const          0.1749      0.014     12.702      0.000       0.148       0.202\n",
      "x1         -5.637e-07   1.71e-07     -3.301      0.001   -9.01e-07   -2.26e-07\n",
      "==============================================================================\n",
      "Omnibus:                       37.144   Durbin-Watson:                   1.660\n",
      "Prob(Omnibus):                  0.000   Jarque-Bera (JB):               64.053\n",
      "Skew:                           1.188   Prob(JB):                     1.23e-14\n",
      "Kurtosis:                       5.144   Cond. No.                     1.21e+05\n",
      "==============================================================================\n",
      "\n",
      "Notes:\n",
      "[1] Standard Errors assume that the covariance matrix of the errors is correctly specified.\n",
      "[2] The condition number is large, 1.21e+05. This might indicate that there are\n",
      "strong multicollinearity or other numerical problems.\n",
      "\n"
     ]
    }
   ],
   "source": [
    "X_values6 = sms.add_constant(x_values6)\n",
    "regression_model_a6 = sms.OLS(y_values, X_values5)\n",
    "regression_model_b6 = regression_model_a6.fit()\n",
    "\n",
    "print(regression_model_b6.summary())\n",
    "print()"
   ]
  },
  {
   "cell_type": "code",
   "execution_count": 99,
   "id": "e37a7261",
   "metadata": {},
   "outputs": [
    {
     "name": "stdout",
     "output_type": "stream",
     "text": [
      "gradient  = -5.637127757608813e-07\n",
      "intercept = 0.17494690795518844\n",
      "Rsquared  = 0.06856289902553603\n",
      "MSE       = 0.012677242075746045\n",
      "pvalue    = 0.001208897471994491\n"
     ]
    }
   ],
   "source": [
    "gradient6  = regression_model_b6.params[1]\n",
    "intercept6 = regression_model_b6.params[0]\n",
    "Rsquared6  = regression_model_b6.rsquared\n",
    "MSE6       = regression_model_b6.mse_resid\n",
    "pvalue6    = regression_model_b6.f_pvalue\n",
    "\n",
    "print(\"gradient  =\", regression_model_b6.params[1])\n",
    "print(\"intercept =\", regression_model_b6.params[0])\n",
    "print(\"Rsquared  =\", regression_model_b6.rsquared)\n",
    "print(\"MSE       =\", regression_model_b6.mse_resid)\n",
    "print(\"pvalue    =\", regression_model_b6.f_pvalue)"
   ]
  },
  {
   "cell_type": "code",
   "execution_count": 100,
   "id": "9284703c",
   "metadata": {},
   "outputs": [],
   "source": [
    "x_lobf6 = [min(x_values6),max(x_values6)]\n",
    "y_lobf6 = [x_lobf6[0]*gradient6 + intercept6,x_lobf6[1]*gradient6 + intercept6]"
   ]
  },
  {
   "cell_type": "code",
   "execution_count": 101,
   "id": "0dd3d3c9",
   "metadata": {},
   "outputs": [
    {
     "data": {
      "text/plain": [
       "<Figure size 504x504 with 0 Axes>"
      ]
     },
     "execution_count": 101,
     "metadata": {},
     "output_type": "execute_result"
    },
    {
     "data": {
      "text/plain": [
       "<Figure size 504x504 with 0 Axes>"
      ]
     },
     "metadata": {},
     "output_type": "display_data"
    }
   ],
   "source": [
    "plt.figure(figsize=(figure_width,figure_height))"
   ]
  },
  {
   "cell_type": "code",
   "execution_count": 102,
   "id": "dc571ad1",
   "metadata": {},
   "outputs": [
    {
     "data": {
      "text/plain": [
       "(0.0, 5000000.0)"
      ]
     },
     "execution_count": 102,
     "metadata": {},
     "output_type": "execute_result"
    },
    {
     "data": {
      "image/png": "[encoded data removed]",
      "text/plain": [
       "<Figure size 432x288 with 1 Axes>"
      ]
     },
     "metadata": {
      "needs_background": "light"
     },
     "output_type": "display_data"
    }
   ],
   "source": [
    "x_min,x_max = 0,5000000\n",
    "y_min,y_max = 0,5000000\n",
    "plt.xlim([x_min,x_max])\n",
    "plt.ylim([y_min,y_max])"
   ]
  },
  {
   "cell_type": "code",
   "execution_count": 103,
   "id": "09f208e0",
   "metadata": {},
   "outputs": [
    {
     "data": {
      "image/png": "[encoded data removed]",
      "text/plain": [
       "<Figure size 432x288 with 1 Axes>"
      ]
     },
     "metadata": {
      "needs_background": "light"
     },
     "output_type": "display_data"
    }
   ],
   "source": [
    "plt.plot(x_values6,y_values,'b.',x_lobf6,y_lobf6,'r--')\n",
    "\n",
    "plt.xlabel('Budget of school awareness')\n",
    "plt.ylabel('2008-2018 ratio growth rate')\n",
    "plt.title('2008-2018 ratio growth rate vs. Budget of school awareness')\n",
    "\n",
    "plt.savefig(output_filename_sa)"
   ]
  },
  {
   "cell_type": "code",
   "execution_count": 104,
   "id": "392b9d1a",
   "metadata": {},
   "outputs": [
    {
     "data": {
      "image/png": "[encoded data removed]",
      "text/plain": [
       "<Figure size 432x288 with 1 Axes>"
      ]
     },
     "metadata": {
      "needs_background": "light"
     },
     "output_type": "display_data"
    }
   ],
   "source": [
    "# plot \n",
    "plt.scatter(regression_model_b6.fittedvalues, regression_model_b6.resid)\n",
    "# adding title and labels\n",
    "plt.xlabel('Fitted budget of school awareness')\n",
    "plt.ylabel('Residual')\n",
    "plt.title('2008-2018 Residual vs. Fitted Plot of budget of school awareness')\n",
    "plt.show()"
   ]
  }
 ],
 "metadata": {
  "kernelspec": {
   "display_name": "Python 3",
   "language": "python",
   "name": "python3"
  },
  "language_info": {
   "codemirror_mode": {
    "name": "ipython",
    "version": 3
   },
   "file_extension": ".py",
   "mimetype": "text/x-python",
   "name": "python",
   "nbconvert_exporter": "python",
   "pygments_lexer": "ipython3",
   "version": "3.8.8"
  }
 },
 "nbformat": 4,
 "nbformat_minor": 5
}
