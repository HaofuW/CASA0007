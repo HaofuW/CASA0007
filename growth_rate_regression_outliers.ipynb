{
 "cells": [
  {
   "cell_type": "markdown",
   "id": "9b3683bd",
   "metadata": {},
   "source": [
    "# Please note that Isles of Scilly is now deleted as outliers."
   ]
  },
  {
   "cell_type": "code",
   "execution_count": 178,
   "id": "412a92a4",
   "metadata": {},
   "outputs": [],
   "source": [
    "import pandas as pd\n",
    "from sklearn.linear_model import LinearRegression\n",
    "import statsmodels.api as sm\n",
    "\n",
    "import numpy as np\n",
    "\n",
    "import sklearn\n",
    "from sklearn.linear_model import LogisticRegression\n",
    "from sklearn.metrics import confusion_matrix\n",
    "\n",
    "import matplotlib.pyplot as plt\n",
    "import seaborn as sn\n",
    "\n",
    "pd.set_option('display.max_rows', 300) # specifies number of rows to show\n",
    "pd.options.display.float_format = '{:40,.4f}'.format # specifies default number format to 4 decimal places\n",
    "plt.style.use('ggplot') # specifies that graphs should use ggplot styling\n",
    "%matplotlib inline"
   ]
  },
  {
   "cell_type": "markdown",
   "id": "121156d2",
   "metadata": {},
   "source": [
    "# Preperation"
   ]
  },
  {
   "cell_type": "code",
   "execution_count": 179,
   "id": "708ba3ce",
   "metadata": {},
   "outputs": [],
   "source": [
    "conditionx = pd.read_csv('CW1_correlation_outliers.csv')"
   ]
  },
  {
   "cell_type": "code",
   "execution_count": 180,
   "id": "1ae38cd6",
   "metadata": {},
   "outputs": [
    {
     "name": "stdout",
     "output_type": "stream",
     "text": [
      "<class 'pandas.core.frame.DataFrame'>\n",
      "RangeIndex: 150 entries, 0 to 149\n",
      "Data columns (total 10 columns):\n",
      " #   Column            Non-Null Count  Dtype  \n",
      "---  ------            --------------  -----  \n",
      " 0   2008_2013_ratio   150 non-null    float64\n",
      " 1   2013_2018_ratio   150 non-null    float64\n",
      " 2   2008_2018_ratio   150 non-null    float64\n",
      " 3   total_budget      150 non-null    int64  \n",
      " 4   clean_air         150 non-null    int64  \n",
      " 5   clean_environ     150 non-null    int64  \n",
      " 6   health_training   150 non-null    int64  \n",
      " 7   school_awareness  150 non-null    int64  \n",
      " 8   media_awareness   150 non-null    int64  \n",
      " 9   sub_counselling   150 non-null    int64  \n",
      "dtypes: float64(3), int64(7)\n",
      "memory usage: 11.8 KB\n"
     ]
    }
   ],
   "source": [
    "conditionx.info()"
   ]
  },
  {
   "cell_type": "code",
   "execution_count": 181,
   "id": "33ed0551",
   "metadata": {},
   "outputs": [
    {
     "data": {
      "text/html": [
       "<div>\n",
       "<style scoped>\n",
       "    .dataframe tbody tr th:only-of-type {\n",
       "        vertical-align: middle;\n",
       "    }\n",
       "\n",
       "    .dataframe tbody tr th {\n",
       "        vertical-align: top;\n",
       "    }\n",
       "\n",
       "    .dataframe thead th {\n",
       "        text-align: right;\n",
       "    }\n",
       "</style>\n",
       "<table border=\"1\" class=\"dataframe\">\n",
       "  <thead>\n",
       "    <tr style=\"text-align: right;\">\n",
       "      <th></th>\n",
       "      <th>2008_2013_ratio</th>\n",
       "      <th>2013_2018_ratio</th>\n",
       "      <th>2008_2018_ratio</th>\n",
       "      <th>total_budget</th>\n",
       "      <th>clean_air</th>\n",
       "      <th>clean_environ</th>\n",
       "      <th>health_training</th>\n",
       "      <th>school_awareness</th>\n",
       "      <th>media_awareness</th>\n",
       "      <th>sub_counselling</th>\n",
       "    </tr>\n",
       "  </thead>\n",
       "  <tbody>\n",
       "    <tr>\n",
       "      <th>0</th>\n",
       "      <td>0.0068</td>\n",
       "      <td>0.2140</td>\n",
       "      <td>0.2223</td>\n",
       "      <td>139000</td>\n",
       "      <td>21000</td>\n",
       "      <td>22000</td>\n",
       "      <td>18000</td>\n",
       "      <td>41000</td>\n",
       "      <td>18000</td>\n",
       "      <td>19000</td>\n",
       "    </tr>\n",
       "    <tr>\n",
       "      <th>1</th>\n",
       "      <td>0.0904</td>\n",
       "      <td>0.2579</td>\n",
       "      <td>0.3716</td>\n",
       "      <td>220000</td>\n",
       "      <td>50000</td>\n",
       "      <td>17000</td>\n",
       "      <td>23000</td>\n",
       "      <td>74000</td>\n",
       "      <td>30000</td>\n",
       "      <td>26000</td>\n",
       "    </tr>\n",
       "    <tr>\n",
       "      <th>2</th>\n",
       "      <td>0.1642</td>\n",
       "      <td>0.1057</td>\n",
       "      <td>0.2872</td>\n",
       "      <td>160000</td>\n",
       "      <td>41000</td>\n",
       "      <td>45000</td>\n",
       "      <td>5000</td>\n",
       "      <td>26000</td>\n",
       "      <td>29000</td>\n",
       "      <td>14000</td>\n",
       "    </tr>\n",
       "    <tr>\n",
       "      <th>3</th>\n",
       "      <td>-0.0466</td>\n",
       "      <td>0.0720</td>\n",
       "      <td>0.0221</td>\n",
       "      <td>161000</td>\n",
       "      <td>33000</td>\n",
       "      <td>42000</td>\n",
       "      <td>19000</td>\n",
       "      <td>50000</td>\n",
       "      <td>10000</td>\n",
       "      <td>7000</td>\n",
       "    </tr>\n",
       "    <tr>\n",
       "      <th>4</th>\n",
       "      <td>0.0092</td>\n",
       "      <td>0.0851</td>\n",
       "      <td>0.0951</td>\n",
       "      <td>130000</td>\n",
       "      <td>37000</td>\n",
       "      <td>52000</td>\n",
       "      <td>17000</td>\n",
       "      <td>8000</td>\n",
       "      <td>3000</td>\n",
       "      <td>13000</td>\n",
       "    </tr>\n",
       "  </tbody>\n",
       "</table>\n",
       "</div>"
      ],
      "text/plain": [
       "                           2008_2013_ratio  \\\n",
       "0                                   0.0068   \n",
       "1                                   0.0904   \n",
       "2                                   0.1642   \n",
       "3                                  -0.0466   \n",
       "4                                   0.0092   \n",
       "\n",
       "                           2013_2018_ratio  \\\n",
       "0                                   0.2140   \n",
       "1                                   0.2579   \n",
       "2                                   0.1057   \n",
       "3                                   0.0720   \n",
       "4                                   0.0851   \n",
       "\n",
       "                           2008_2018_ratio  total_budget  clean_air  \\\n",
       "0                                   0.2223        139000      21000   \n",
       "1                                   0.3716        220000      50000   \n",
       "2                                   0.2872        160000      41000   \n",
       "3                                   0.0221        161000      33000   \n",
       "4                                   0.0951        130000      37000   \n",
       "\n",
       "   clean_environ  health_training  school_awareness  media_awareness  \\\n",
       "0          22000            18000             41000            18000   \n",
       "1          17000            23000             74000            30000   \n",
       "2          45000             5000             26000            29000   \n",
       "3          42000            19000             50000            10000   \n",
       "4          52000            17000              8000             3000   \n",
       "\n",
       "   sub_counselling  \n",
       "0            19000  \n",
       "1            26000  \n",
       "2            14000  \n",
       "3             7000  \n",
       "4            13000  "
      ]
     },
     "execution_count": 181,
     "metadata": {},
     "output_type": "execute_result"
    }
   ],
   "source": [
    "conditionx.head()"
   ]
  },
  {
   "cell_type": "markdown",
   "id": "a7129383",
   "metadata": {},
   "source": [
    "# Check the correlation between variables"
   ]
  },
  {
   "cell_type": "code",
   "execution_count": 182,
   "id": "413b7903",
   "metadata": {
    "scrolled": true
   },
   "outputs": [
    {
     "data": {
      "text/plain": [
       "Text(0.5, 1.0, 'Correlation Matrix')"
      ]
     },
     "execution_count": 182,
     "metadata": {},
     "output_type": "execute_result"
    },
    {
     "data": {
      "image/png": "[encoded data removed]",
      "text/plain": [
       "<Figure size 1368x1080 with 2 Axes>"
      ]
     },
     "metadata": {
      "needs_background": "light"
     },
     "output_type": "display_data"
    }
   ],
   "source": [
    "df = conditionx\n",
    "plt.rcParams[\"axes.grid\"] = False\n",
    "f = plt.figure(figsize=(19, 15))\n",
    "plt.matshow(df.corr(), fignum=f.number)\n",
    "plt.xticks(range(df.shape[1]), df.columns, fontsize=14, rotation=45)\n",
    "plt.yticks(range(df.shape[1]), df.columns, fontsize=14)\n",
    "cb = plt.colorbar()\n",
    "cb.ax.tick_params(labelsize=14)\n",
    "plt.title('Correlation Matrix', fontsize=16)"
   ]
  },
  {
   "cell_type": "code",
   "execution_count": 183,
   "id": "f4574a00",
   "metadata": {
    "scrolled": true
   },
   "outputs": [
    {
     "data": {
      "text/html": [
       "<div>\n",
       "<style scoped>\n",
       "    .dataframe tbody tr th:only-of-type {\n",
       "        vertical-align: middle;\n",
       "    }\n",
       "\n",
       "    .dataframe tbody tr th {\n",
       "        vertical-align: top;\n",
       "    }\n",
       "\n",
       "    .dataframe thead th {\n",
       "        text-align: right;\n",
       "    }\n",
       "</style>\n",
       "<table border=\"1\" class=\"dataframe\">\n",
       "  <thead>\n",
       "    <tr style=\"text-align: right;\">\n",
       "      <th></th>\n",
       "      <th>2008_2013_ratio</th>\n",
       "      <th>2013_2018_ratio</th>\n",
       "      <th>2008_2018_ratio</th>\n",
       "      <th>total_budget</th>\n",
       "      <th>clean_air</th>\n",
       "      <th>clean_environ</th>\n",
       "      <th>health_training</th>\n",
       "      <th>school_awareness</th>\n",
       "      <th>media_awareness</th>\n",
       "      <th>sub_counselling</th>\n",
       "    </tr>\n",
       "  </thead>\n",
       "  <tbody>\n",
       "    <tr>\n",
       "      <th>2008_2013_ratio</th>\n",
       "      <td>1.0000</td>\n",
       "      <td>0.1883</td>\n",
       "      <td>0.6624</td>\n",
       "      <td>-0.2093</td>\n",
       "      <td>-0.1948</td>\n",
       "      <td>-0.1530</td>\n",
       "      <td>-0.1934</td>\n",
       "      <td>-0.2162</td>\n",
       "      <td>-0.1318</td>\n",
       "      <td>-0.1852</td>\n",
       "    </tr>\n",
       "    <tr>\n",
       "      <th>2013_2018_ratio</th>\n",
       "      <td>0.1883</td>\n",
       "      <td>1.0000</td>\n",
       "      <td>0.8593</td>\n",
       "      <td>-0.2013</td>\n",
       "      <td>-0.2187</td>\n",
       "      <td>-0.1540</td>\n",
       "      <td>-0.1506</td>\n",
       "      <td>-0.1951</td>\n",
       "      <td>-0.1145</td>\n",
       "      <td>-0.1658</td>\n",
       "    </tr>\n",
       "    <tr>\n",
       "      <th>2008_2018_ratio</th>\n",
       "      <td>0.6624</td>\n",
       "      <td>0.8593</td>\n",
       "      <td>1.0000</td>\n",
       "      <td>-0.2563</td>\n",
       "      <td>-0.2618</td>\n",
       "      <td>-0.1933</td>\n",
       "      <td>-0.2107</td>\n",
       "      <td>-0.2543</td>\n",
       "      <td>-0.1525</td>\n",
       "      <td>-0.2172</td>\n",
       "    </tr>\n",
       "    <tr>\n",
       "      <th>total_budget</th>\n",
       "      <td>-0.2093</td>\n",
       "      <td>-0.2013</td>\n",
       "      <td>-0.2563</td>\n",
       "      <td>1.0000</td>\n",
       "      <td>0.8887</td>\n",
       "      <td>0.8837</td>\n",
       "      <td>0.7905</td>\n",
       "      <td>0.8695</td>\n",
       "      <td>0.8078</td>\n",
       "      <td>0.8589</td>\n",
       "    </tr>\n",
       "    <tr>\n",
       "      <th>clean_air</th>\n",
       "      <td>-0.1948</td>\n",
       "      <td>-0.2187</td>\n",
       "      <td>-0.2618</td>\n",
       "      <td>0.8887</td>\n",
       "      <td>1.0000</td>\n",
       "      <td>0.7124</td>\n",
       "      <td>0.6533</td>\n",
       "      <td>0.7399</td>\n",
       "      <td>0.5973</td>\n",
       "      <td>0.7482</td>\n",
       "    </tr>\n",
       "    <tr>\n",
       "      <th>clean_environ</th>\n",
       "      <td>-0.1530</td>\n",
       "      <td>-0.1540</td>\n",
       "      <td>-0.1933</td>\n",
       "      <td>0.8837</td>\n",
       "      <td>0.7124</td>\n",
       "      <td>1.0000</td>\n",
       "      <td>0.6336</td>\n",
       "      <td>0.6507</td>\n",
       "      <td>0.6753</td>\n",
       "      <td>0.7312</td>\n",
       "    </tr>\n",
       "    <tr>\n",
       "      <th>health_training</th>\n",
       "      <td>-0.1934</td>\n",
       "      <td>-0.1506</td>\n",
       "      <td>-0.2107</td>\n",
       "      <td>0.7905</td>\n",
       "      <td>0.6533</td>\n",
       "      <td>0.6336</td>\n",
       "      <td>1.0000</td>\n",
       "      <td>0.6159</td>\n",
       "      <td>0.6854</td>\n",
       "      <td>0.7115</td>\n",
       "    </tr>\n",
       "    <tr>\n",
       "      <th>school_awareness</th>\n",
       "      <td>-0.2162</td>\n",
       "      <td>-0.1951</td>\n",
       "      <td>-0.2543</td>\n",
       "      <td>0.8695</td>\n",
       "      <td>0.7399</td>\n",
       "      <td>0.6507</td>\n",
       "      <td>0.6159</td>\n",
       "      <td>1.0000</td>\n",
       "      <td>0.6537</td>\n",
       "      <td>0.6821</td>\n",
       "    </tr>\n",
       "    <tr>\n",
       "      <th>media_awareness</th>\n",
       "      <td>-0.1318</td>\n",
       "      <td>-0.1145</td>\n",
       "      <td>-0.1525</td>\n",
       "      <td>0.8078</td>\n",
       "      <td>0.5973</td>\n",
       "      <td>0.6753</td>\n",
       "      <td>0.6854</td>\n",
       "      <td>0.6537</td>\n",
       "      <td>1.0000</td>\n",
       "      <td>0.6991</td>\n",
       "    </tr>\n",
       "    <tr>\n",
       "      <th>sub_counselling</th>\n",
       "      <td>-0.1852</td>\n",
       "      <td>-0.1658</td>\n",
       "      <td>-0.2172</td>\n",
       "      <td>0.8589</td>\n",
       "      <td>0.7482</td>\n",
       "      <td>0.7312</td>\n",
       "      <td>0.7115</td>\n",
       "      <td>0.6821</td>\n",
       "      <td>0.6991</td>\n",
       "      <td>1.0000</td>\n",
       "    </tr>\n",
       "  </tbody>\n",
       "</table>\n",
       "</div>"
      ],
      "text/plain": [
       "                                          2008_2013_ratio  \\\n",
       "2008_2013_ratio                                    1.0000   \n",
       "2013_2018_ratio                                    0.1883   \n",
       "2008_2018_ratio                                    0.6624   \n",
       "total_budget                                      -0.2093   \n",
       "clean_air                                         -0.1948   \n",
       "clean_environ                                     -0.1530   \n",
       "health_training                                   -0.1934   \n",
       "school_awareness                                  -0.2162   \n",
       "media_awareness                                   -0.1318   \n",
       "sub_counselling                                   -0.1852   \n",
       "\n",
       "                                          2013_2018_ratio  \\\n",
       "2008_2013_ratio                                    0.1883   \n",
       "2013_2018_ratio                                    1.0000   \n",
       "2008_2018_ratio                                    0.8593   \n",
       "total_budget                                      -0.2013   \n",
       "clean_air                                         -0.2187   \n",
       "clean_environ                                     -0.1540   \n",
       "health_training                                   -0.1506   \n",
       "school_awareness                                  -0.1951   \n",
       "media_awareness                                   -0.1145   \n",
       "sub_counselling                                   -0.1658   \n",
       "\n",
       "                                          2008_2018_ratio  \\\n",
       "2008_2013_ratio                                    0.6624   \n",
       "2013_2018_ratio                                    0.8593   \n",
       "2008_2018_ratio                                    1.0000   \n",
       "total_budget                                      -0.2563   \n",
       "clean_air                                         -0.2618   \n",
       "clean_environ                                     -0.1933   \n",
       "health_training                                   -0.2107   \n",
       "school_awareness                                  -0.2543   \n",
       "media_awareness                                   -0.1525   \n",
       "sub_counselling                                   -0.2172   \n",
       "\n",
       "                                             total_budget  \\\n",
       "2008_2013_ratio                                   -0.2093   \n",
       "2013_2018_ratio                                   -0.2013   \n",
       "2008_2018_ratio                                   -0.2563   \n",
       "total_budget                                       1.0000   \n",
       "clean_air                                          0.8887   \n",
       "clean_environ                                      0.8837   \n",
       "health_training                                    0.7905   \n",
       "school_awareness                                   0.8695   \n",
       "media_awareness                                    0.8078   \n",
       "sub_counselling                                    0.8589   \n",
       "\n",
       "                                                clean_air  \\\n",
       "2008_2013_ratio                                   -0.1948   \n",
       "2013_2018_ratio                                   -0.2187   \n",
       "2008_2018_ratio                                   -0.2618   \n",
       "total_budget                                       0.8887   \n",
       "clean_air                                          1.0000   \n",
       "clean_environ                                      0.7124   \n",
       "health_training                                    0.6533   \n",
       "school_awareness                                   0.7399   \n",
       "media_awareness                                    0.5973   \n",
       "sub_counselling                                    0.7482   \n",
       "\n",
       "                                            clean_environ  \\\n",
       "2008_2013_ratio                                   -0.1530   \n",
       "2013_2018_ratio                                   -0.1540   \n",
       "2008_2018_ratio                                   -0.1933   \n",
       "total_budget                                       0.8837   \n",
       "clean_air                                          0.7124   \n",
       "clean_environ                                      1.0000   \n",
       "health_training                                    0.6336   \n",
       "school_awareness                                   0.6507   \n",
       "media_awareness                                    0.6753   \n",
       "sub_counselling                                    0.7312   \n",
       "\n",
       "                                          health_training  \\\n",
       "2008_2013_ratio                                   -0.1934   \n",
       "2013_2018_ratio                                   -0.1506   \n",
       "2008_2018_ratio                                   -0.2107   \n",
       "total_budget                                       0.7905   \n",
       "clean_air                                          0.6533   \n",
       "clean_environ                                      0.6336   \n",
       "health_training                                    1.0000   \n",
       "school_awareness                                   0.6159   \n",
       "media_awareness                                    0.6854   \n",
       "sub_counselling                                    0.7115   \n",
       "\n",
       "                                         school_awareness  \\\n",
       "2008_2013_ratio                                   -0.2162   \n",
       "2013_2018_ratio                                   -0.1951   \n",
       "2008_2018_ratio                                   -0.2543   \n",
       "total_budget                                       0.8695   \n",
       "clean_air                                          0.7399   \n",
       "clean_environ                                      0.6507   \n",
       "health_training                                    0.6159   \n",
       "school_awareness                                   1.0000   \n",
       "media_awareness                                    0.6537   \n",
       "sub_counselling                                    0.6821   \n",
       "\n",
       "                                          media_awareness  \\\n",
       "2008_2013_ratio                                   -0.1318   \n",
       "2013_2018_ratio                                   -0.1145   \n",
       "2008_2018_ratio                                   -0.1525   \n",
       "total_budget                                       0.8078   \n",
       "clean_air                                          0.5973   \n",
       "clean_environ                                      0.6753   \n",
       "health_training                                    0.6854   \n",
       "school_awareness                                   0.6537   \n",
       "media_awareness                                    1.0000   \n",
       "sub_counselling                                    0.6991   \n",
       "\n",
       "                                          sub_counselling  \n",
       "2008_2013_ratio                                   -0.1852  \n",
       "2013_2018_ratio                                   -0.1658  \n",
       "2008_2018_ratio                                   -0.2172  \n",
       "total_budget                                       0.8589  \n",
       "clean_air                                          0.7482  \n",
       "clean_environ                                      0.7312  \n",
       "health_training                                    0.7115  \n",
       "school_awareness                                   0.6821  \n",
       "media_awareness                                    0.6991  \n",
       "sub_counselling                                    1.0000  "
      ]
     },
     "execution_count": 183,
     "metadata": {},
     "output_type": "execute_result"
    }
   ],
   "source": [
    "df.corr()"
   ]
  },
  {
   "cell_type": "markdown",
   "id": "dfc101f3",
   "metadata": {},
   "source": [
    "# Linear Regression"
   ]
  },
  {
   "cell_type": "code",
   "execution_count": 149,
   "id": "62895684",
   "metadata": {},
   "outputs": [],
   "source": [
    "data_filename = 'CW1_outliers.csv'\n",
    "output_filename = '0813_regression_outliers.png'"
   ]
  },
  {
   "cell_type": "code",
   "execution_count": 150,
   "id": "6d190a33",
   "metadata": {},
   "outputs": [],
   "source": [
    "figure_width, figure_height = 7,7\n",
    "\n",
    "import matplotlib.pyplot as plt\n",
    "import statsmodels.api as sms\n",
    "import numpy as np\n",
    "\n",
    "data = np.genfromtxt(data_filename,delimiter = ',')"
   ]
  },
  {
   "cell_type": "markdown",
   "id": "6f5e2635",
   "metadata": {},
   "source": [
    "## 2008-2013"
   ]
  },
  {
   "cell_type": "code",
   "execution_count": 151,
   "id": "3de12b48",
   "metadata": {},
   "outputs": [],
   "source": [
    "x_values = data[1:,4]\n",
    "y_values = data[1:,1]"
   ]
  },
  {
   "cell_type": "code",
   "execution_count": 152,
   "id": "f9826459",
   "metadata": {},
   "outputs": [
    {
     "name": "stdout",
     "output_type": "stream",
     "text": [
      "                            OLS Regression Results                            \n",
      "==============================================================================\n",
      "Dep. Variable:                      y   R-squared:                       0.044\n",
      "Model:                            OLS   Adj. R-squared:                  0.037\n",
      "Method:                 Least Squares   F-statistic:                     6.781\n",
      "Date:                Sun, 14 Nov 2021   Prob (F-statistic):             0.0102\n",
      "Time:                        16:26:03   Log-Likelihood:                 227.73\n",
      "No. Observations:                 150   AIC:                            -451.5\n",
      "Df Residuals:                     148   BIC:                            -445.4\n",
      "Df Model:                           1                                         \n",
      "Covariance Type:            nonrobust                                         \n",
      "==============================================================================\n",
      "                 coef    std err          t      P>|t|      [0.025      0.975]\n",
      "------------------------------------------------------------------------------\n",
      "const          0.0635      0.007      8.852      0.000       0.049       0.078\n",
      "x1         -5.424e-08   2.08e-08     -2.604      0.010   -9.54e-08   -1.31e-08\n",
      "==============================================================================\n",
      "Omnibus:                       35.978   Durbin-Watson:                   1.809\n",
      "Prob(Omnibus):                  0.000   Jarque-Bera (JB):               65.469\n",
      "Skew:                           1.118   Prob(JB):                     6.08e-15\n",
      "Kurtosis:                       5.341   Cond. No.                     5.67e+05\n",
      "==============================================================================\n",
      "\n",
      "Notes:\n",
      "[1] Standard Errors assume that the covariance matrix of the errors is correctly specified.\n",
      "[2] The condition number is large, 5.67e+05. This might indicate that there are\n",
      "strong multicollinearity or other numerical problems.\n",
      "\n"
     ]
    }
   ],
   "source": [
    "X_values = sms.add_constant(x_values)\n",
    "regression_model_a = sms.OLS(y_values, X_values)\n",
    "regression_model_b = regression_model_a.fit()\n",
    "\n",
    "print(regression_model_b.summary())\n",
    "print()"
   ]
  },
  {
   "cell_type": "code",
   "execution_count": 153,
   "id": "2741a4ea",
   "metadata": {},
   "outputs": [],
   "source": [
    "gradient  = regression_model_b.params[1]\n",
    "intercept = regression_model_b.params[0]\n",
    "Rsquared  = regression_model_b.rsquared\n",
    "MSE       = regression_model_b.mse_resid\n",
    "pvalue    = regression_model_b.f_pvalue"
   ]
  },
  {
   "cell_type": "code",
   "execution_count": 154,
   "id": "c72951d1",
   "metadata": {},
   "outputs": [
    {
     "name": "stdout",
     "output_type": "stream",
     "text": [
      "gradient  = -5.423659240903658e-08\n",
      "intercept = 0.0634974472527494\n",
      "Rsquared  = 0.0438104563688656\n",
      "MSE       = 0.0028486531350108897\n",
      "pvalue    = 0.010152210377098635\n"
     ]
    }
   ],
   "source": [
    "print(\"gradient  =\", regression_model_b.params[1])\n",
    "print(\"intercept =\", regression_model_b.params[0])\n",
    "print(\"Rsquared  =\", regression_model_b.rsquared)\n",
    "print(\"MSE       =\", regression_model_b.mse_resid)\n",
    "print(\"pvalue    =\", regression_model_b.f_pvalue)"
   ]
  },
  {
   "cell_type": "code",
   "execution_count": 155,
   "id": "de329585",
   "metadata": {},
   "outputs": [],
   "source": [
    "x_lobf = [min(x_values),max(x_values)]\n",
    "y_lobf = [x_lobf[0]*gradient + intercept,x_lobf[1]*gradient + intercept]"
   ]
  },
  {
   "cell_type": "code",
   "execution_count": 156,
   "id": "687cdf35",
   "metadata": {},
   "outputs": [
    {
     "data": {
      "text/plain": [
       "<Figure size 504x504 with 0 Axes>"
      ]
     },
     "execution_count": 156,
     "metadata": {},
     "output_type": "execute_result"
    },
    {
     "data": {
      "text/plain": [
       "<Figure size 504x504 with 0 Axes>"
      ]
     },
     "metadata": {},
     "output_type": "display_data"
    }
   ],
   "source": [
    "plt.figure(figsize=(figure_width,figure_height))"
   ]
  },
  {
   "cell_type": "code",
   "execution_count": 157,
   "id": "9c4250a1",
   "metadata": {},
   "outputs": [
    {
     "data": {
      "text/plain": [
       "(0.0, 5000000.0)"
      ]
     },
     "execution_count": 157,
     "metadata": {},
     "output_type": "execute_result"
    },
    {
     "data": {
      "image/png": "[encoded data removed]",
      "text/plain": [
       "<Figure size 432x288 with 1 Axes>"
      ]
     },
     "metadata": {
      "needs_background": "light"
     },
     "output_type": "display_data"
    }
   ],
   "source": [
    "x_min,x_max = 0,5000000\n",
    "y_min,y_max = 0,5000000\n",
    "plt.xlim([x_min,x_max])\n",
    "plt.ylim([y_min,y_max])"
   ]
  },
  {
   "cell_type": "code",
   "execution_count": 158,
   "id": "b046f241",
   "metadata": {},
   "outputs": [
    {
     "data": {
      "image/png": "[encoded data removed]",
      "text/plain": [
       "<Figure size 432x288 with 1 Axes>"
      ]
     },
     "metadata": {
      "needs_background": "light"
     },
     "output_type": "display_data"
    }
   ],
   "source": [
    "output_filename = '0813_regression_outliers.png'\n",
    "plt.plot(x_values,y_values,'b.',x_lobf,y_lobf,'r--')\n",
    "\n",
    "plt.xlabel('Total budget')\n",
    "plt.ylabel('2008-2013 ratio growth rate')\n",
    "plt.title('2008-2013 ratio growth rate vs. Total budget')\n",
    "\n",
    "plt.savefig(output_filename)"
   ]
  },
  {
   "cell_type": "markdown",
   "id": "8a91e337",
   "metadata": {},
   "source": [
    "### Residual Analysis"
   ]
  },
  {
   "cell_type": "code",
   "execution_count": 159,
   "id": "634ecc5d",
   "metadata": {},
   "outputs": [
    {
     "data": {
      "image/png": "[encoded data removed]",
      "text/plain": [
       "<Figure size 432x288 with 1 Axes>"
      ]
     },
     "metadata": {
      "needs_background": "light"
     },
     "output_type": "display_data"
    }
   ],
   "source": [
    "# plot \n",
    "plt.scatter(regression_model_b.fittedvalues, regression_model_b.resid)\n",
    "# adding title and labels\n",
    "plt.xlabel('Fitted total budget')\n",
    "plt.ylabel('Residual')\n",
    "plt.title('2008-2013 Residual vs. Fitted Plot of total budget')\n",
    "plt.show()"
   ]
  },
  {
   "cell_type": "markdown",
   "id": "8c27c6f6",
   "metadata": {},
   "source": [
    "## 2013-2018"
   ]
  },
  {
   "cell_type": "code",
   "execution_count": 160,
   "id": "67484521",
   "metadata": {},
   "outputs": [],
   "source": [
    "x_values = data[1:,4]\n",
    "y2_values = data[1:,2]"
   ]
  },
  {
   "cell_type": "code",
   "execution_count": 161,
   "id": "1998100d",
   "metadata": {},
   "outputs": [
    {
     "name": "stdout",
     "output_type": "stream",
     "text": [
      "                            OLS Regression Results                            \n",
      "==============================================================================\n",
      "Dep. Variable:                      y   R-squared:                       0.041\n",
      "Model:                            OLS   Adj. R-squared:                  0.034\n",
      "Method:                 Least Squares   F-statistic:                     6.250\n",
      "Date:                Sun, 14 Nov 2021   Prob (F-statistic):             0.0135\n",
      "Time:                        16:26:27   Log-Likelihood:                 163.23\n",
      "No. Observations:                 150   AIC:                            -322.5\n",
      "Df Residuals:                     148   BIC:                            -316.4\n",
      "Df Model:                           1                                         \n",
      "Covariance Type:            nonrobust                                         \n",
      "==============================================================================\n",
      "                 coef    std err          t      P>|t|      [0.025      0.975]\n",
      "------------------------------------------------------------------------------\n",
      "const          0.1092      0.011      9.906      0.000       0.087       0.131\n",
      "x1         -8.005e-08    3.2e-08     -2.500      0.014   -1.43e-07   -1.68e-08\n",
      "==============================================================================\n",
      "Omnibus:                       34.745   Durbin-Watson:                   1.750\n",
      "Prob(Omnibus):                  0.000   Jarque-Bera (JB):               58.408\n",
      "Skew:                           1.126   Prob(JB):                     2.07e-13\n",
      "Kurtosis:                       5.068   Cond. No.                     5.67e+05\n",
      "==============================================================================\n",
      "\n",
      "Notes:\n",
      "[1] Standard Errors assume that the covariance matrix of the errors is correctly specified.\n",
      "[2] The condition number is large, 5.67e+05. This might indicate that there are\n",
      "strong multicollinearity or other numerical problems.\n",
      "\n"
     ]
    }
   ],
   "source": [
    "X_values = sms.add_constant(x_values)\n",
    "regression_model_a2 = sms.OLS(y2_values, X_values)\n",
    "regression_model_b2 = regression_model_a2.fit()\n",
    "\n",
    "print(regression_model_b2.summary())\n",
    "print() "
   ]
  },
  {
   "cell_type": "code",
   "execution_count": 162,
   "id": "b560c30d",
   "metadata": {},
   "outputs": [],
   "source": [
    "gradient2  = regression_model_b2.params[1]\n",
    "intercept2 = regression_model_b2.params[0]\n",
    "Rsquared2  = regression_model_b2.rsquared\n",
    "MSE2       = regression_model_b2.mse_resid\n",
    "pvalue2    = regression_model_b2.f_pvalue"
   ]
  },
  {
   "cell_type": "code",
   "execution_count": 163,
   "id": "44eb061f",
   "metadata": {},
   "outputs": [
    {
     "name": "stdout",
     "output_type": "stream",
     "text": [
      "gradient  = -8.004727212538733e-08\n",
      "intercept = 0.10923589211595434\n",
      "Rsquared  = 0.04051705032952302\n",
      "MSE       = 0.006732573138123723\n",
      "pvalue    = 0.013511958571325639\n"
     ]
    }
   ],
   "source": [
    "print(\"gradient  =\", regression_model_b2.params[1])\n",
    "print(\"intercept =\", regression_model_b2.params[0])\n",
    "print(\"Rsquared  =\", regression_model_b2.rsquared)\n",
    "print(\"MSE       =\", regression_model_b2.mse_resid)\n",
    "print(\"pvalue    =\", regression_model_b2.f_pvalue)"
   ]
  },
  {
   "cell_type": "code",
   "execution_count": 164,
   "id": "d3da5683",
   "metadata": {},
   "outputs": [],
   "source": [
    "x_lobf2 = [min(x_values),max(x_values)]\n",
    "y_lobf2 = [x_lobf2[0]*gradient2 + intercept2,x_lobf2[1]*gradient2 + intercept2]"
   ]
  },
  {
   "cell_type": "code",
   "execution_count": 165,
   "id": "d19136e9",
   "metadata": {},
   "outputs": [
    {
     "data": {
      "text/plain": [
       "<Figure size 504x504 with 0 Axes>"
      ]
     },
     "execution_count": 165,
     "metadata": {},
     "output_type": "execute_result"
    },
    {
     "data": {
      "text/plain": [
       "<Figure size 504x504 with 0 Axes>"
      ]
     },
     "metadata": {},
     "output_type": "display_data"
    }
   ],
   "source": [
    "plt.figure(figsize=(figure_width,figure_height))"
   ]
  },
  {
   "cell_type": "code",
   "execution_count": 166,
   "id": "49d4da8c",
   "metadata": {},
   "outputs": [
    {
     "data": {
      "text/plain": [
       "(0.0, 5000000.0)"
      ]
     },
     "execution_count": 166,
     "metadata": {},
     "output_type": "execute_result"
    },
    {
     "data": {
      "image/png": "[encoded data removed]",
      "text/plain": [
       "<Figure size 432x288 with 1 Axes>"
      ]
     },
     "metadata": {
      "needs_background": "light"
     },
     "output_type": "display_data"
    }
   ],
   "source": [
    "x_min,x_max = 0,5000000\n",
    "y_min,y_max = 0,5000000\n",
    "plt.xlim([x_min,x_max])\n",
    "plt.ylim([y_min,y_max])"
   ]
  },
  {
   "cell_type": "code",
   "execution_count": 167,
   "id": "66697767",
   "metadata": {},
   "outputs": [
    {
     "data": {
      "image/png": "[encoded data removed]",
      "text/plain": [
       "<Figure size 432x288 with 1 Axes>"
      ]
     },
     "metadata": {
      "needs_background": "light"
     },
     "output_type": "display_data"
    }
   ],
   "source": [
    "output_filename2 = 'regression_1318_outliers.png'\n",
    "plt.plot(x_values,y2_values,'b.',x_lobf2,y_lobf2,'r--')\n",
    "\n",
    "plt.xlabel('Total budget')\n",
    "plt.ylabel('2013-2018 ratio growth rate')\n",
    "plt.title('2013-2018 ratio growth rate vs. Total budget')\n",
    "\n",
    "plt.savefig(output_filename2)"
   ]
  },
  {
   "cell_type": "markdown",
   "id": "300226a7",
   "metadata": {},
   "source": [
    "### Residual Analysis"
   ]
  },
  {
   "cell_type": "code",
   "execution_count": 168,
   "id": "7d26c1b1",
   "metadata": {},
   "outputs": [
    {
     "data": {
      "image/png": "[encoded data removed]",
      "text/plain": [
       "<Figure size 432x288 with 1 Axes>"
      ]
     },
     "metadata": {
      "needs_background": "light"
     },
     "output_type": "display_data"
    }
   ],
   "source": [
    "# plot \n",
    "plt.scatter(regression_model_b2.fittedvalues, regression_model_b2.resid)\n",
    "# adding title and labels\n",
    "plt.xlabel('Fitted total budget')\n",
    "plt.ylabel('Residual')\n",
    "plt.title('2013-2018 Residual vs. Fitted Plot of total budget')\n",
    "plt.show()"
   ]
  },
  {
   "cell_type": "markdown",
   "id": "3e12a10d",
   "metadata": {},
   "source": [
    "## 2008-2018"
   ]
  },
  {
   "cell_type": "code",
   "execution_count": 169,
   "id": "2a0bbd34",
   "metadata": {},
   "outputs": [],
   "source": [
    "x_values = data[1:,4]\n",
    "y3_values = data[1:,3]"
   ]
  },
  {
   "cell_type": "code",
   "execution_count": 170,
   "id": "dc5baf29",
   "metadata": {},
   "outputs": [
    {
     "name": "stdout",
     "output_type": "stream",
     "text": [
      "                            OLS Regression Results                            \n",
      "==============================================================================\n",
      "Dep. Variable:                      y   R-squared:                       0.041\n",
      "Model:                            OLS   Adj. R-squared:                  0.034\n",
      "Method:                 Least Squares   F-statistic:                     6.250\n",
      "Date:                Sun, 14 Nov 2021   Prob (F-statistic):             0.0135\n",
      "Time:                        16:26:57   Log-Likelihood:                 163.23\n",
      "No. Observations:                 150   AIC:                            -322.5\n",
      "Df Residuals:                     148   BIC:                            -316.4\n",
      "Df Model:                           1                                         \n",
      "Covariance Type:            nonrobust                                         \n",
      "==============================================================================\n",
      "                 coef    std err          t      P>|t|      [0.025      0.975]\n",
      "------------------------------------------------------------------------------\n",
      "const          0.1092      0.011      9.906      0.000       0.087       0.131\n",
      "x1         -8.005e-08    3.2e-08     -2.500      0.014   -1.43e-07   -1.68e-08\n",
      "==============================================================================\n",
      "Omnibus:                       34.745   Durbin-Watson:                   1.750\n",
      "Prob(Omnibus):                  0.000   Jarque-Bera (JB):               58.408\n",
      "Skew:                           1.126   Prob(JB):                     2.07e-13\n",
      "Kurtosis:                       5.068   Cond. No.                     5.67e+05\n",
      "==============================================================================\n",
      "\n",
      "Notes:\n",
      "[1] Standard Errors assume that the covariance matrix of the errors is correctly specified.\n",
      "[2] The condition number is large, 5.67e+05. This might indicate that there are\n",
      "strong multicollinearity or other numerical problems.\n",
      "\n"
     ]
    }
   ],
   "source": [
    "X_values = sms.add_constant(x_values)\n",
    "regression_model_a3 = sms.OLS(y3_values, X_values)\n",
    "regression_model_b3 = regression_model_a2.fit()\n",
    "\n",
    "print(regression_model_b3.summary())\n",
    "print() "
   ]
  },
  {
   "cell_type": "code",
   "execution_count": 171,
   "id": "c52385e5",
   "metadata": {},
   "outputs": [],
   "source": [
    "gradient3  = regression_model_b3.params[1]\n",
    "intercept3 = regression_model_b3.params[0]\n",
    "Rsquared3  = regression_model_b3.rsquared\n",
    "MSE3       = regression_model_b3.mse_resid\n",
    "pvalue3    = regression_model_b3.f_pvalue"
   ]
  },
  {
   "cell_type": "code",
   "execution_count": 172,
   "id": "1db90868",
   "metadata": {},
   "outputs": [
    {
     "name": "stdout",
     "output_type": "stream",
     "text": [
      "gradient  = -8.004727212538733e-08\n",
      "intercept = 0.10923589211595434\n",
      "Rsquared  = 0.04051705032952302\n",
      "MSE       = 0.006732573138123723\n",
      "pvalue    = 0.013511958571325639\n"
     ]
    }
   ],
   "source": [
    "print(\"gradient  =\", regression_model_b3.params[1])\n",
    "print(\"intercept =\", regression_model_b3.params[0])\n",
    "print(\"Rsquared  =\", regression_model_b3.rsquared)\n",
    "print(\"MSE       =\", regression_model_b3.mse_resid)\n",
    "print(\"pvalue    =\", regression_model_b3.f_pvalue)"
   ]
  },
  {
   "cell_type": "code",
   "execution_count": 173,
   "id": "95682b54",
   "metadata": {},
   "outputs": [],
   "source": [
    "x_lobf3 = [min(x_values),max(x_values)]\n",
    "y_lobf3 = [x_lobf3[0]*gradient3 + intercept3,x_lobf3[1]*gradient3 + intercept3]"
   ]
  },
  {
   "cell_type": "code",
   "execution_count": 174,
   "id": "99f556f0",
   "metadata": {},
   "outputs": [
    {
     "data": {
      "text/plain": [
       "<Figure size 504x504 with 0 Axes>"
      ]
     },
     "execution_count": 174,
     "metadata": {},
     "output_type": "execute_result"
    },
    {
     "data": {
      "text/plain": [
       "<Figure size 504x504 with 0 Axes>"
      ]
     },
     "metadata": {},
     "output_type": "display_data"
    }
   ],
   "source": [
    "plt.figure(figsize=(figure_width,figure_height))"
   ]
  },
  {
   "cell_type": "code",
   "execution_count": 175,
   "id": "fb2dfd4e",
   "metadata": {
    "scrolled": true
   },
   "outputs": [
    {
     "data": {
      "text/plain": [
       "(0.0, 5000000.0)"
      ]
     },
     "execution_count": 175,
     "metadata": {},
     "output_type": "execute_result"
    },
    {
     "data": {
      "image/png": "[encoded data removed]",
      "text/plain": [
       "<Figure size 432x288 with 1 Axes>"
      ]
     },
     "metadata": {
      "needs_background": "light"
     },
     "output_type": "display_data"
    }
   ],
   "source": [
    "x_min,x_max = 0,5000000\n",
    "y_min,y_max = 0,5000000\n",
    "plt.xlim([x_min,x_max])\n",
    "plt.ylim([y_min,y_max])"
   ]
  },
  {
   "cell_type": "code",
   "execution_count": 185,
   "id": "c8e4f641",
   "metadata": {},
   "outputs": [
    {
     "data": {
      "image/png": "[encoded data removed]",
      "text/plain": [
       "<Figure size 432x288 with 1 Axes>"
      ]
     },
     "metadata": {
      "needs_background": "light"
     },
     "output_type": "display_data"
    }
   ],
   "source": [
    "output_filename3 = 'regression_0818_outliers.png'\n",
    "plt.plot(x_values,y3_values,'b.',x_lobf3,y_lobf3,'r--')\n",
    "\n",
    "plt.xlabel('Total budget')\n",
    "plt.ylabel('2008-2018 ratio growth rate')\n",
    "plt.title('2008-2018 ratio growth rate vs. Total budget')\n",
    "\n",
    "plt.savefig(output_filename3)"
   ]
  },
  {
   "cell_type": "markdown",
   "id": "76e6c1c6",
   "metadata": {},
   "source": [
    "### Residual Analysis"
   ]
  },
  {
   "cell_type": "code",
   "execution_count": 177,
   "id": "788b41e3",
   "metadata": {},
   "outputs": [
    {
     "data": {
      "image/png": "[encoded data removed]",
      "text/plain": [
       "<Figure size 432x288 with 1 Axes>"
      ]
     },
     "metadata": {
      "needs_background": "light"
     },
     "output_type": "display_data"
    }
   ],
   "source": [
    "# plot \n",
    "plt.scatter(regression_model_b3.fittedvalues, regression_model_b3.resid)\n",
    "# adding title and labels\n",
    "plt.xlabel('Fitted total budget')\n",
    "plt.ylabel('Residual')\n",
    "plt.title('2008-2018 Residual vs. Fitted Plot of total budget')\n",
    "plt.show()"
   ]
  }
 ],
 "metadata": {
  "kernelspec": {
   "display_name": "Python 3",
   "language": "python",
   "name": "python3"
  },
  "language_info": {
   "codemirror_mode": {
    "name": "ipython",
    "version": 3
   },
   "file_extension": ".py",
   "mimetype": "text/x-python",
   "name": "python",
   "nbconvert_exporter": "python",
   "pygments_lexer": "ipython3",
   "version": "3.8.8"
  }
 },
 "nbformat": 4,
 "nbformat_minor": 5
}
